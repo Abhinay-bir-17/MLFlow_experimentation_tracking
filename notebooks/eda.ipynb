{
 "cells": [
  {
   "cell_type": "markdown",
   "id": "3d3379a7",
   "metadata": {},
   "source": [
    "### 1. Importing Libraries\n"
   ]
  },
  {
   "cell_type": "code",
   "execution_count": 3,
   "id": "c4d75405",
   "metadata": {},
   "outputs": [],
   "source": [
    "import os\n",
    "import pandas as pd  \n",
    "import seaborn as sns\n",
    "import matplotlib.pyplot as plt\n",
    "import numpy as np\n",
    "\n",
    "import eda_helper_functions\n",
    "\n",
    "from sklearn.ensemble import IsolationForest\n"
   ]
  },
  {
   "cell_type": "code",
   "execution_count": 4,
   "id": "e219db41",
   "metadata": {},
   "outputs": [
    {
     "data": {
      "text/plain": [
       "(498, 8)"
      ]
     },
     "execution_count": 4,
     "metadata": {},
     "output_type": "execute_result"
    }
   ],
   "source": [
    "### 2. Reading train data\n",
    "df = pd.read_csv('../data/train.csv')\n",
    "df.shape"
   ]
  },
  {
   "cell_type": "code",
   "execution_count": 5,
   "id": "33fe95eb",
   "metadata": {},
   "outputs": [
    {
     "data": {
      "text/html": [
       "<div>\n",
       "<style scoped>\n",
       "    .dataframe tbody tr th:only-of-type {\n",
       "        vertical-align: middle;\n",
       "    }\n",
       "\n",
       "    .dataframe tbody tr th {\n",
       "        vertical-align: top;\n",
       "    }\n",
       "\n",
       "    .dataframe thead th {\n",
       "        text-align: right;\n",
       "    }\n",
       "</style>\n",
       "<table border=\"1\" class=\"dataframe\">\n",
       "  <thead>\n",
       "    <tr style=\"text-align: right;\">\n",
       "      <th></th>\n",
       "      <th>pclass</th>\n",
       "      <th>sex</th>\n",
       "      <th>age</th>\n",
       "      <th>sibsp</th>\n",
       "      <th>parch</th>\n",
       "      <th>fare</th>\n",
       "      <th>embarked</th>\n",
       "      <th>survived</th>\n",
       "    </tr>\n",
       "  </thead>\n",
       "  <tbody>\n",
       "    <tr>\n",
       "      <th>0</th>\n",
       "      <td>1</td>\n",
       "      <td>female</td>\n",
       "      <td>24.0</td>\n",
       "      <td>0</td>\n",
       "      <td>0</td>\n",
       "      <td>69.3000</td>\n",
       "      <td>C</td>\n",
       "      <td>1</td>\n",
       "    </tr>\n",
       "    <tr>\n",
       "      <th>1</th>\n",
       "      <td>3</td>\n",
       "      <td>female</td>\n",
       "      <td>3.0</td>\n",
       "      <td>3</td>\n",
       "      <td>1</td>\n",
       "      <td>21.0750</td>\n",
       "      <td>S</td>\n",
       "      <td>0</td>\n",
       "    </tr>\n",
       "    <tr>\n",
       "      <th>2</th>\n",
       "      <td>3</td>\n",
       "      <td>female</td>\n",
       "      <td>16.0</td>\n",
       "      <td>0</td>\n",
       "      <td>0</td>\n",
       "      <td>7.7333</td>\n",
       "      <td>Q</td>\n",
       "      <td>1</td>\n",
       "    </tr>\n",
       "    <tr>\n",
       "      <th>3</th>\n",
       "      <td>3</td>\n",
       "      <td>male</td>\n",
       "      <td>32.0</td>\n",
       "      <td>0</td>\n",
       "      <td>0</td>\n",
       "      <td>56.4958</td>\n",
       "      <td>S</td>\n",
       "      <td>1</td>\n",
       "    </tr>\n",
       "    <tr>\n",
       "      <th>4</th>\n",
       "      <td>3</td>\n",
       "      <td>male</td>\n",
       "      <td>22.0</td>\n",
       "      <td>0</td>\n",
       "      <td>0</td>\n",
       "      <td>7.1250</td>\n",
       "      <td>S</td>\n",
       "      <td>0</td>\n",
       "    </tr>\n",
       "  </tbody>\n",
       "</table>\n",
       "</div>"
      ],
      "text/plain": [
       "   pclass     sex   age  sibsp  parch     fare embarked  survived\n",
       "0       1  female  24.0      0      0  69.3000        C         1\n",
       "1       3  female   3.0      3      1  21.0750        S         0\n",
       "2       3  female  16.0      0      0   7.7333        Q         1\n",
       "3       3    male  32.0      0      0  56.4958        S         1\n",
       "4       3    male  22.0      0      0   7.1250        S         0"
      ]
     },
     "execution_count": 5,
     "metadata": {},
     "output_type": "execute_result"
    }
   ],
   "source": [
    "df.head()"
   ]
  },
  {
   "cell_type": "markdown",
   "id": "de52d80e",
   "metadata": {},
   "source": [
    "### 2. High Level Summary of Data"
   ]
  },
  {
   "cell_type": "code",
   "execution_count": 6,
   "id": "efa013fb",
   "metadata": {},
   "outputs": [
    {
     "name": "stdout",
     "output_type": "stream",
     "text": [
      "<class 'pandas.core.frame.DataFrame'>\n",
      "RangeIndex: 498 entries, 0 to 497\n",
      "Data columns (total 8 columns):\n",
      " #   Column    Non-Null Count  Dtype  \n",
      "---  ------    --------------  -----  \n",
      " 0   pclass    498 non-null    int64  \n",
      " 1   sex       498 non-null    object \n",
      " 2   age       402 non-null    float64\n",
      " 3   sibsp     498 non-null    int64  \n",
      " 4   parch     498 non-null    int64  \n",
      " 5   fare      498 non-null    float64\n",
      " 6   embarked  497 non-null    object \n",
      " 7   survived  498 non-null    int64  \n",
      "dtypes: float64(2), int64(4), object(2)\n",
      "memory usage: 31.3+ KB\n"
     ]
    }
   ],
   "source": [
    "df.info()"
   ]
  },
  {
   "cell_type": "code",
   "execution_count": 7,
   "id": "f3d1a2e2",
   "metadata": {},
   "outputs": [
    {
     "data": {
      "text/html": [
       "<div>\n",
       "<style scoped>\n",
       "    .dataframe tbody tr th:only-of-type {\n",
       "        vertical-align: middle;\n",
       "    }\n",
       "\n",
       "    .dataframe tbody tr th {\n",
       "        vertical-align: top;\n",
       "    }\n",
       "\n",
       "    .dataframe thead th {\n",
       "        text-align: right;\n",
       "    }\n",
       "</style>\n",
       "<table border=\"1\" class=\"dataframe\">\n",
       "  <thead>\n",
       "    <tr style=\"text-align: right;\">\n",
       "      <th></th>\n",
       "      <th>pclass</th>\n",
       "      <th>age</th>\n",
       "      <th>sibsp</th>\n",
       "      <th>parch</th>\n",
       "      <th>fare</th>\n",
       "      <th>survived</th>\n",
       "    </tr>\n",
       "  </thead>\n",
       "  <tbody>\n",
       "    <tr>\n",
       "      <th>count</th>\n",
       "      <td>498.000000</td>\n",
       "      <td>402.000000</td>\n",
       "      <td>498.000000</td>\n",
       "      <td>498.000000</td>\n",
       "      <td>498.000000</td>\n",
       "      <td>498.000000</td>\n",
       "    </tr>\n",
       "    <tr>\n",
       "      <th>mean</th>\n",
       "      <td>2.339357</td>\n",
       "      <td>29.309701</td>\n",
       "      <td>0.578313</td>\n",
       "      <td>0.381526</td>\n",
       "      <td>30.335199</td>\n",
       "      <td>0.379518</td>\n",
       "    </tr>\n",
       "    <tr>\n",
       "      <th>std</th>\n",
       "      <td>0.816885</td>\n",
       "      <td>14.646028</td>\n",
       "      <td>1.229619</td>\n",
       "      <td>0.799283</td>\n",
       "      <td>44.541796</td>\n",
       "      <td>0.485755</td>\n",
       "    </tr>\n",
       "    <tr>\n",
       "      <th>min</th>\n",
       "      <td>1.000000</td>\n",
       "      <td>0.670000</td>\n",
       "      <td>0.000000</td>\n",
       "      <td>0.000000</td>\n",
       "      <td>0.000000</td>\n",
       "      <td>0.000000</td>\n",
       "    </tr>\n",
       "    <tr>\n",
       "      <th>25%</th>\n",
       "      <td>2.000000</td>\n",
       "      <td>20.000000</td>\n",
       "      <td>0.000000</td>\n",
       "      <td>0.000000</td>\n",
       "      <td>7.925000</td>\n",
       "      <td>0.000000</td>\n",
       "    </tr>\n",
       "    <tr>\n",
       "      <th>50%</th>\n",
       "      <td>3.000000</td>\n",
       "      <td>28.000000</td>\n",
       "      <td>0.000000</td>\n",
       "      <td>0.000000</td>\n",
       "      <td>14.254150</td>\n",
       "      <td>0.000000</td>\n",
       "    </tr>\n",
       "    <tr>\n",
       "      <th>75%</th>\n",
       "      <td>3.000000</td>\n",
       "      <td>38.000000</td>\n",
       "      <td>1.000000</td>\n",
       "      <td>0.000000</td>\n",
       "      <td>30.053100</td>\n",
       "      <td>1.000000</td>\n",
       "    </tr>\n",
       "    <tr>\n",
       "      <th>max</th>\n",
       "      <td>3.000000</td>\n",
       "      <td>80.000000</td>\n",
       "      <td>8.000000</td>\n",
       "      <td>5.000000</td>\n",
       "      <td>512.329200</td>\n",
       "      <td>1.000000</td>\n",
       "    </tr>\n",
       "  </tbody>\n",
       "</table>\n",
       "</div>"
      ],
      "text/plain": [
       "           pclass         age       sibsp       parch        fare    survived\n",
       "count  498.000000  402.000000  498.000000  498.000000  498.000000  498.000000\n",
       "mean     2.339357   29.309701    0.578313    0.381526   30.335199    0.379518\n",
       "std      0.816885   14.646028    1.229619    0.799283   44.541796    0.485755\n",
       "min      1.000000    0.670000    0.000000    0.000000    0.000000    0.000000\n",
       "25%      2.000000   20.000000    0.000000    0.000000    7.925000    0.000000\n",
       "50%      3.000000   28.000000    0.000000    0.000000   14.254150    0.000000\n",
       "75%      3.000000   38.000000    1.000000    0.000000   30.053100    1.000000\n",
       "max      3.000000   80.000000    8.000000    5.000000  512.329200    1.000000"
      ]
     },
     "execution_count": 7,
     "metadata": {},
     "output_type": "execute_result"
    }
   ],
   "source": [
    "df.describe()"
   ]
  },
  {
   "cell_type": "markdown",
   "id": "208d4e8f",
   "metadata": {},
   "source": [
    "none of the values r negative, so all look like valid values"
   ]
  },
  {
   "cell_type": "code",
   "execution_count": 8,
   "id": "00483d76",
   "metadata": {},
   "outputs": [
    {
     "data": {
      "text/html": [
       "<div>\n",
       "<style scoped>\n",
       "    .dataframe tbody tr th:only-of-type {\n",
       "        vertical-align: middle;\n",
       "    }\n",
       "\n",
       "    .dataframe tbody tr th {\n",
       "        vertical-align: top;\n",
       "    }\n",
       "\n",
       "    .dataframe thead th {\n",
       "        text-align: right;\n",
       "    }\n",
       "</style>\n",
       "<table border=\"1\" class=\"dataframe\">\n",
       "  <thead>\n",
       "    <tr style=\"text-align: right;\">\n",
       "      <th></th>\n",
       "      <th>sex</th>\n",
       "      <th>embarked</th>\n",
       "    </tr>\n",
       "  </thead>\n",
       "  <tbody>\n",
       "    <tr>\n",
       "      <th>count</th>\n",
       "      <td>498</td>\n",
       "      <td>497</td>\n",
       "    </tr>\n",
       "    <tr>\n",
       "      <th>unique</th>\n",
       "      <td>2</td>\n",
       "      <td>3</td>\n",
       "    </tr>\n",
       "    <tr>\n",
       "      <th>top</th>\n",
       "      <td>male</td>\n",
       "      <td>S</td>\n",
       "    </tr>\n",
       "    <tr>\n",
       "      <th>freq</th>\n",
       "      <td>333</td>\n",
       "      <td>373</td>\n",
       "    </tr>\n",
       "  </tbody>\n",
       "</table>\n",
       "</div>"
      ],
      "text/plain": [
       "         sex embarked\n",
       "count    498      497\n",
       "unique     2        3\n",
       "top     male        S\n",
       "freq     333      373"
      ]
     },
     "execution_count": 8,
     "metadata": {},
     "output_type": "execute_result"
    }
   ],
   "source": [
    "df.describe(include='O')"
   ]
  },
  {
   "cell_type": "markdown",
   "id": "a67f9cd8",
   "metadata": {},
   "source": [
    "`sex` and `embarked` are both imbalanced colms "
   ]
  },
  {
   "cell_type": "code",
   "execution_count": 9,
   "id": "abde7f25",
   "metadata": {},
   "outputs": [
    {
     "data": {
      "text/html": [
       "<div>\n",
       "<style scoped>\n",
       "    .dataframe tbody tr th:only-of-type {\n",
       "        vertical-align: middle;\n",
       "    }\n",
       "\n",
       "    .dataframe tbody tr th {\n",
       "        vertical-align: top;\n",
       "    }\n",
       "\n",
       "    .dataframe thead th {\n",
       "        text-align: right;\n",
       "    }\n",
       "</style>\n",
       "<table border=\"1\" class=\"dataframe\">\n",
       "  <thead>\n",
       "    <tr style=\"text-align: right;\">\n",
       "      <th></th>\n",
       "      <th>sex</th>\n",
       "      <th>embarked</th>\n",
       "      <th>survived</th>\n",
       "    </tr>\n",
       "  </thead>\n",
       "  <tbody>\n",
       "    <tr>\n",
       "      <th>count</th>\n",
       "      <td>498</td>\n",
       "      <td>497</td>\n",
       "      <td>498</td>\n",
       "    </tr>\n",
       "    <tr>\n",
       "      <th>unique</th>\n",
       "      <td>2</td>\n",
       "      <td>3</td>\n",
       "      <td>2</td>\n",
       "    </tr>\n",
       "    <tr>\n",
       "      <th>top</th>\n",
       "      <td>male</td>\n",
       "      <td>S</td>\n",
       "      <td>0</td>\n",
       "    </tr>\n",
       "    <tr>\n",
       "      <th>freq</th>\n",
       "      <td>333</td>\n",
       "      <td>373</td>\n",
       "      <td>309</td>\n",
       "    </tr>\n",
       "  </tbody>\n",
       "</table>\n",
       "</div>"
      ],
      "text/plain": [
       "         sex embarked  survived\n",
       "count    498      497       498\n",
       "unique     2        3         2\n",
       "top     male        S         0\n",
       "freq     333      373       309"
      ]
     },
     "execution_count": 9,
     "metadata": {},
     "output_type": "execute_result"
    }
   ],
   "source": [
    "(\n",
    " df\n",
    " .assign(survived=df.survived.astype(object))\n",
    " .describe(include='O') \n",
    ")"
   ]
  },
  {
   "cell_type": "markdown",
   "id": "4ed7ac8d",
   "metadata": {},
   "source": [
    "just experimenting above "
   ]
  },
  {
   "cell_type": "markdown",
   "id": "264c855b",
   "metadata": {},
   "source": [
    "### 3. High level analysis of missing values in our dataset"
   ]
  },
  {
   "cell_type": "code",
   "execution_count": 10,
   "id": "d079ff3c",
   "metadata": {},
   "outputs": [
    {
     "data": {
      "text/plain": [
       "pclass       0\n",
       "sex          0\n",
       "age         96\n",
       "sibsp        0\n",
       "parch        0\n",
       "fare         0\n",
       "embarked     1\n",
       "survived     0\n",
       "dtype: int64"
      ]
     },
     "execution_count": 10,
     "metadata": {},
     "output_type": "execute_result"
    }
   ],
   "source": [
    "df.isnull().sum()"
   ]
  },
  {
   "cell_type": "code",
   "execution_count": 11,
   "id": "5dfa29f7",
   "metadata": {},
   "outputs": [
    {
     "data": {
      "text/html": [
       "<div>\n",
       "<style scoped>\n",
       "    .dataframe tbody tr th:only-of-type {\n",
       "        vertical-align: middle;\n",
       "    }\n",
       "\n",
       "    .dataframe tbody tr th {\n",
       "        vertical-align: top;\n",
       "    }\n",
       "\n",
       "    .dataframe thead th {\n",
       "        text-align: right;\n",
       "    }\n",
       "</style>\n",
       "<table border=\"1\" class=\"dataframe\">\n",
       "  <thead>\n",
       "    <tr style=\"text-align: right;\">\n",
       "      <th></th>\n",
       "      <th>count</th>\n",
       "      <th>percentage</th>\n",
       "    </tr>\n",
       "    <tr>\n",
       "      <th>variable</th>\n",
       "      <th></th>\n",
       "      <th></th>\n",
       "    </tr>\n",
       "  </thead>\n",
       "  <tbody>\n",
       "    <tr>\n",
       "      <th>age</th>\n",
       "      <td>96</td>\n",
       "      <td>19.277108</td>\n",
       "    </tr>\n",
       "    <tr>\n",
       "      <th>embarked</th>\n",
       "      <td>1</td>\n",
       "      <td>0.200803</td>\n",
       "    </tr>\n",
       "  </tbody>\n",
       "</table>\n",
       "</div>"
      ],
      "text/plain": [
       "          count  percentage\n",
       "variable                   \n",
       "age          96   19.277108\n",
       "embarked      1    0.200803"
      ]
     },
     "execution_count": 11,
     "metadata": {},
     "output_type": "execute_result"
    }
   ],
   "source": [
    "eda_helper_functions.missing_info(df)"
   ]
  },
  {
   "cell_type": "code",
   "execution_count": 12,
   "id": "dd6d4ab9",
   "metadata": {},
   "outputs": [
    {
     "data": {
      "image/png": "[encoded data removed]",
      "text/plain": [
       "<Figure size 1000x400 with 1 Axes>"
      ]
     },
     "metadata": {},
     "output_type": "display_data"
    }
   ],
   "source": [
    "eda_helper_functions.plot_missing_info(df)"
   ]
  },
  {
   "cell_type": "markdown",
   "id": "1c431b3b",
   "metadata": {},
   "source": [
    "`age` and `embarked` have missing values"
   ]
  },
  {
   "cell_type": "code",
   "execution_count": 13,
   "id": "24832254",
   "metadata": {},
   "outputs": [],
   "source": [
    "import missingno as msno\n"
   ]
  },
  {
   "cell_type": "code",
   "execution_count": 14,
   "id": "6000bd91",
   "metadata": {},
   "outputs": [
    {
     "data": {
      "text/plain": [
       "<Axes: >"
      ]
     },
     "execution_count": 14,
     "metadata": {},
     "output_type": "execute_result"
    },
    {
     "data": {
      "image/png": "[encoded data removed]",
      "text/plain": [
       "<Figure size 2500x1000 with 3 Axes>"
      ]
     },
     "metadata": {},
     "output_type": "display_data"
    }
   ],
   "source": [
    "msno.bar(df)"
   ]
  },
  {
   "cell_type": "code",
   "execution_count": 15,
   "id": "104d496b",
   "metadata": {},
   "outputs": [
    {
     "data": {
      "text/plain": [
       "<Axes: >"
      ]
     },
     "execution_count": 15,
     "metadata": {},
     "output_type": "execute_result"
    },
    {
     "data": {
      "image/png": "[encoded data removed]",
      "text/plain": [
       "<Figure size 2500x1000 with 2 Axes>"
      ]
     },
     "metadata": {},
     "output_type": "display_data"
    }
   ],
   "source": [
    "msno.matrix(df)"
   ]
  },
  {
   "cell_type": "code",
   "execution_count": 16,
   "id": "db0846b1",
   "metadata": {},
   "outputs": [
    {
     "data": {
      "text/plain": [
       "pclass\n",
       "1    0.109091\n",
       "2    0.091743\n",
       "3    0.265233\n",
       "Name: age_missing, dtype: float64"
      ]
     },
     "execution_count": 16,
     "metadata": {},
     "output_type": "execute_result"
    }
   ],
   "source": [
    "(\n",
    "  df\n",
    "  .assign(\n",
    "    age_missing = lambda df_: df_.age.isnull().astype(int)\n",
    "  )\n",
    "  .groupby('pclass')\n",
    "  .age_missing\n",
    "  .mean()\n",
    ")"
   ]
  },
  {
   "cell_type": "markdown",
   "id": "791b0513",
   "metadata": {},
   "source": [
    "3rd class passendgers have more missing values for `age` colm,\n",
    "maybe coz they survived the least?  "
   ]
  },
  {
   "cell_type": "code",
   "execution_count": 17,
   "id": "9944287e",
   "metadata": {},
   "outputs": [
    {
     "data": {
      "text/plain": [
       "pclass\n",
       "1    0.627273\n",
       "2    0.449541\n",
       "3    0.254480\n",
       "Name: survived, dtype: float64"
      ]
     },
     "execution_count": 17,
     "metadata": {},
     "output_type": "execute_result"
    }
   ],
   "source": [
    "(\n",
    "  df\n",
    "  .groupby('pclass')\n",
    "  .survived\n",
    "  .mean()\n",
    ")"
   ]
  },
  {
   "cell_type": "markdown",
   "id": "db429fad",
   "metadata": {},
   "source": [
    "yes, they survived the least !! so cant say that missing values\n",
    "of `age` colm depend on `pclass`"
   ]
  },
  {
   "cell_type": "code",
   "execution_count": 18,
   "id": "3f14da18",
   "metadata": {},
   "outputs": [
    {
     "data": {
      "text/plain": [
       "sex\n",
       "female    0.169697\n",
       "male      0.204204\n",
       "Name: missing_age, dtype: float64"
      ]
     },
     "execution_count": 18,
     "metadata": {},
     "output_type": "execute_result"
    }
   ],
   "source": [
    "(  \n",
    "  df\n",
    "  .assign(\n",
    "    missing_age = lambda df_: df_.age.isnull().astype(int)\n",
    "  )\n",
    "  .groupby('sex')\n",
    "  .missing_age\n",
    "  .mean()\n",
    ")  "
   ]
  },
  {
   "cell_type": "markdown",
   "id": "4abec5e6",
   "metadata": {},
   "source": [
    "missing values of `age` dont depend on sex too\n",
    "as both sex have similar missing values considering \n",
    "more male died than female "
   ]
  },
  {
   "cell_type": "code",
   "execution_count": 19,
   "id": "95364b96",
   "metadata": {},
   "outputs": [
    {
     "data": {
      "text/plain": [
       "sex\n",
       "female    0.739394\n",
       "male      0.201201\n",
       "Name: survived, dtype: float64"
      ]
     },
     "execution_count": 19,
     "metadata": {},
     "output_type": "execute_result"
    }
   ],
   "source": [
    "(\n",
    "  df\n",
    "  .groupby('sex')\n",
    "  .survived\n",
    "  .mean()\n",
    ")"
   ]
  },
  {
   "cell_type": "code",
   "execution_count": 20,
   "id": "ae46922c",
   "metadata": {},
   "outputs": [
    {
     "data": {
      "text/plain": [
       "sex\n",
       "male      66.86747\n",
       "female    33.13253\n",
       "Name: proportion, dtype: float64"
      ]
     },
     "execution_count": 20,
     "metadata": {},
     "output_type": "execute_result"
    }
   ],
   "source": [
    "df.sex.value_counts(normalize=True)*100"
   ]
  },
  {
   "cell_type": "code",
   "execution_count": 21,
   "id": "8fa4063e",
   "metadata": {},
   "outputs": [
    {
     "data": {
      "text/plain": [
       "Index(['pclass', 'sex', 'age', 'sibsp', 'parch', 'fare', 'embarked',\n",
       "       'survived'],\n",
       "      dtype='object')"
      ]
     },
     "execution_count": 21,
     "metadata": {},
     "output_type": "execute_result"
    }
   ],
   "source": [
    "df.columns"
   ]
  },
  {
   "cell_type": "markdown",
   "id": "76711687",
   "metadata": {},
   "source": [
    "### 4. High level analysis of outliers"
   ]
  },
  {
   "cell_type": "code",
   "execution_count": 22,
   "id": "7c72a079",
   "metadata": {},
   "outputs": [
    {
     "data": {
      "text/plain": [
       "Index(['pclass', 'sex', 'age', 'sibsp', 'parch', 'fare', 'embarked',\n",
       "       'survived'],\n",
       "      dtype='object')"
      ]
     },
     "execution_count": 22,
     "metadata": {},
     "output_type": "execute_result"
    }
   ],
   "source": [
    "df.columns"
   ]
  },
  {
   "cell_type": "markdown",
   "id": "5d908507",
   "metadata": {},
   "source": [
    "for colms `age`, `sibsp`, `parch` nd `fare` it makes sense to check \n",
    "outliers      "
   ]
  },
  {
   "cell_type": "code",
   "execution_count": 23,
   "id": "6f865266",
   "metadata": {},
   "outputs": [],
   "source": [
    "iso = IsolationForest(n_estimators=100, random_state=12, contamination=0.05)"
   ]
  },
  {
   "cell_type": "code",
   "execution_count": 24,
   "id": "dada8802",
   "metadata": {},
   "outputs": [
    {
     "data": {
      "text/plain": [
       "outlier\n",
       " 1    473\n",
       "-1     25\n",
       "Name: count, dtype: int64"
      ]
     },
     "execution_count": 24,
     "metadata": {},
     "output_type": "execute_result"
    }
   ],
   "source": [
    "(\n",
    "  df\n",
    "  .assign(\n",
    "    outlier = iso.fit_predict(\n",
    "      df.drop(columns='survived')\n",
    "      .select_dtypes(include='number')\n",
    "    )\n",
    "  )\n",
    "  .outlier\n",
    "  .value_counts()\n",
    ")"
   ]
  },
  {
   "cell_type": "code",
   "execution_count": 25,
   "id": "6446c456",
   "metadata": {},
   "outputs": [
    {
     "data": {
      "text/html": [
       "<div>\n",
       "<style scoped>\n",
       "    .dataframe tbody tr th:only-of-type {\n",
       "        vertical-align: middle;\n",
       "    }\n",
       "\n",
       "    .dataframe tbody tr th {\n",
       "        vertical-align: top;\n",
       "    }\n",
       "\n",
       "    .dataframe thead th {\n",
       "        text-align: right;\n",
       "    }\n",
       "</style>\n",
       "<table border=\"1\" class=\"dataframe\">\n",
       "  <thead>\n",
       "    <tr style=\"text-align: right;\">\n",
       "      <th></th>\n",
       "      <th>pclass</th>\n",
       "      <th>sex</th>\n",
       "      <th>age</th>\n",
       "      <th>sibsp</th>\n",
       "      <th>parch</th>\n",
       "      <th>fare</th>\n",
       "      <th>embarked</th>\n",
       "      <th>survived</th>\n",
       "      <th>outlier</th>\n",
       "    </tr>\n",
       "  </thead>\n",
       "  <tbody>\n",
       "    <tr>\n",
       "      <th>47</th>\n",
       "      <td>3</td>\n",
       "      <td>male</td>\n",
       "      <td>14.0</td>\n",
       "      <td>5</td>\n",
       "      <td>2</td>\n",
       "      <td>46.9000</td>\n",
       "      <td>S</td>\n",
       "      <td>0</td>\n",
       "      <td>-1</td>\n",
       "    </tr>\n",
       "    <tr>\n",
       "      <th>65</th>\n",
       "      <td>1</td>\n",
       "      <td>male</td>\n",
       "      <td>4.0</td>\n",
       "      <td>0</td>\n",
       "      <td>2</td>\n",
       "      <td>81.8583</td>\n",
       "      <td>S</td>\n",
       "      <td>1</td>\n",
       "      <td>-1</td>\n",
       "    </tr>\n",
       "    <tr>\n",
       "      <th>68</th>\n",
       "      <td>1</td>\n",
       "      <td>female</td>\n",
       "      <td>15.0</td>\n",
       "      <td>0</td>\n",
       "      <td>1</td>\n",
       "      <td>211.3375</td>\n",
       "      <td>S</td>\n",
       "      <td>1</td>\n",
       "      <td>-1</td>\n",
       "    </tr>\n",
       "    <tr>\n",
       "      <th>69</th>\n",
       "      <td>3</td>\n",
       "      <td>female</td>\n",
       "      <td>39.0</td>\n",
       "      <td>1</td>\n",
       "      <td>5</td>\n",
       "      <td>31.2750</td>\n",
       "      <td>S</td>\n",
       "      <td>0</td>\n",
       "      <td>-1</td>\n",
       "    </tr>\n",
       "    <tr>\n",
       "      <th>133</th>\n",
       "      <td>3</td>\n",
       "      <td>female</td>\n",
       "      <td>29.0</td>\n",
       "      <td>0</td>\n",
       "      <td>4</td>\n",
       "      <td>21.0750</td>\n",
       "      <td>S</td>\n",
       "      <td>0</td>\n",
       "      <td>-1</td>\n",
       "    </tr>\n",
       "    <tr>\n",
       "      <th>139</th>\n",
       "      <td>3</td>\n",
       "      <td>male</td>\n",
       "      <td>1.0</td>\n",
       "      <td>5</td>\n",
       "      <td>2</td>\n",
       "      <td>46.9000</td>\n",
       "      <td>S</td>\n",
       "      <td>0</td>\n",
       "      <td>-1</td>\n",
       "    </tr>\n",
       "    <tr>\n",
       "      <th>148</th>\n",
       "      <td>3</td>\n",
       "      <td>female</td>\n",
       "      <td>45.0</td>\n",
       "      <td>1</td>\n",
       "      <td>4</td>\n",
       "      <td>27.9000</td>\n",
       "      <td>S</td>\n",
       "      <td>0</td>\n",
       "      <td>-1</td>\n",
       "    </tr>\n",
       "    <tr>\n",
       "      <th>155</th>\n",
       "      <td>3</td>\n",
       "      <td>female</td>\n",
       "      <td>NaN</td>\n",
       "      <td>8</td>\n",
       "      <td>2</td>\n",
       "      <td>69.5500</td>\n",
       "      <td>S</td>\n",
       "      <td>0</td>\n",
       "      <td>-1</td>\n",
       "    </tr>\n",
       "    <tr>\n",
       "      <th>183</th>\n",
       "      <td>1</td>\n",
       "      <td>female</td>\n",
       "      <td>35.0</td>\n",
       "      <td>0</td>\n",
       "      <td>0</td>\n",
       "      <td>512.3292</td>\n",
       "      <td>C</td>\n",
       "      <td>1</td>\n",
       "      <td>-1</td>\n",
       "    </tr>\n",
       "    <tr>\n",
       "      <th>266</th>\n",
       "      <td>3</td>\n",
       "      <td>male</td>\n",
       "      <td>NaN</td>\n",
       "      <td>8</td>\n",
       "      <td>2</td>\n",
       "      <td>69.5500</td>\n",
       "      <td>S</td>\n",
       "      <td>0</td>\n",
       "      <td>-1</td>\n",
       "    </tr>\n",
       "    <tr>\n",
       "      <th>272</th>\n",
       "      <td>3</td>\n",
       "      <td>female</td>\n",
       "      <td>NaN</td>\n",
       "      <td>8</td>\n",
       "      <td>2</td>\n",
       "      <td>69.5500</td>\n",
       "      <td>S</td>\n",
       "      <td>0</td>\n",
       "      <td>-1</td>\n",
       "    </tr>\n",
       "    <tr>\n",
       "      <th>278</th>\n",
       "      <td>1</td>\n",
       "      <td>female</td>\n",
       "      <td>31.0</td>\n",
       "      <td>0</td>\n",
       "      <td>2</td>\n",
       "      <td>164.8667</td>\n",
       "      <td>S</td>\n",
       "      <td>1</td>\n",
       "      <td>-1</td>\n",
       "    </tr>\n",
       "    <tr>\n",
       "      <th>310</th>\n",
       "      <td>1</td>\n",
       "      <td>female</td>\n",
       "      <td>23.0</td>\n",
       "      <td>3</td>\n",
       "      <td>2</td>\n",
       "      <td>263.0000</td>\n",
       "      <td>S</td>\n",
       "      <td>1</td>\n",
       "      <td>-1</td>\n",
       "    </tr>\n",
       "    <tr>\n",
       "      <th>313</th>\n",
       "      <td>1</td>\n",
       "      <td>male</td>\n",
       "      <td>19.0</td>\n",
       "      <td>3</td>\n",
       "      <td>2</td>\n",
       "      <td>263.0000</td>\n",
       "      <td>S</td>\n",
       "      <td>0</td>\n",
       "      <td>-1</td>\n",
       "    </tr>\n",
       "    <tr>\n",
       "      <th>319</th>\n",
       "      <td>2</td>\n",
       "      <td>female</td>\n",
       "      <td>24.0</td>\n",
       "      <td>2</td>\n",
       "      <td>3</td>\n",
       "      <td>18.7500</td>\n",
       "      <td>S</td>\n",
       "      <td>1</td>\n",
       "      <td>-1</td>\n",
       "    </tr>\n",
       "    <tr>\n",
       "      <th>331</th>\n",
       "      <td>1</td>\n",
       "      <td>female</td>\n",
       "      <td>18.0</td>\n",
       "      <td>1</td>\n",
       "      <td>0</td>\n",
       "      <td>227.5250</td>\n",
       "      <td>C</td>\n",
       "      <td>1</td>\n",
       "      <td>-1</td>\n",
       "    </tr>\n",
       "    <tr>\n",
       "      <th>373</th>\n",
       "      <td>1</td>\n",
       "      <td>female</td>\n",
       "      <td>24.0</td>\n",
       "      <td>3</td>\n",
       "      <td>2</td>\n",
       "      <td>263.0000</td>\n",
       "      <td>S</td>\n",
       "      <td>1</td>\n",
       "      <td>-1</td>\n",
       "    </tr>\n",
       "    <tr>\n",
       "      <th>385</th>\n",
       "      <td>3</td>\n",
       "      <td>female</td>\n",
       "      <td>41.0</td>\n",
       "      <td>0</td>\n",
       "      <td>5</td>\n",
       "      <td>39.6875</td>\n",
       "      <td>S</td>\n",
       "      <td>0</td>\n",
       "      <td>-1</td>\n",
       "    </tr>\n",
       "    <tr>\n",
       "      <th>386</th>\n",
       "      <td>1</td>\n",
       "      <td>female</td>\n",
       "      <td>2.0</td>\n",
       "      <td>1</td>\n",
       "      <td>2</td>\n",
       "      <td>151.5500</td>\n",
       "      <td>S</td>\n",
       "      <td>0</td>\n",
       "      <td>-1</td>\n",
       "    </tr>\n",
       "    <tr>\n",
       "      <th>393</th>\n",
       "      <td>3</td>\n",
       "      <td>female</td>\n",
       "      <td>NaN</td>\n",
       "      <td>8</td>\n",
       "      <td>2</td>\n",
       "      <td>69.5500</td>\n",
       "      <td>S</td>\n",
       "      <td>0</td>\n",
       "      <td>-1</td>\n",
       "    </tr>\n",
       "    <tr>\n",
       "      <th>439</th>\n",
       "      <td>3</td>\n",
       "      <td>male</td>\n",
       "      <td>39.0</td>\n",
       "      <td>1</td>\n",
       "      <td>5</td>\n",
       "      <td>31.2750</td>\n",
       "      <td>S</td>\n",
       "      <td>0</td>\n",
       "      <td>-1</td>\n",
       "    </tr>\n",
       "    <tr>\n",
       "      <th>445</th>\n",
       "      <td>3</td>\n",
       "      <td>male</td>\n",
       "      <td>NaN</td>\n",
       "      <td>8</td>\n",
       "      <td>2</td>\n",
       "      <td>69.5500</td>\n",
       "      <td>S</td>\n",
       "      <td>0</td>\n",
       "      <td>-1</td>\n",
       "    </tr>\n",
       "    <tr>\n",
       "      <th>454</th>\n",
       "      <td>1</td>\n",
       "      <td>male</td>\n",
       "      <td>64.0</td>\n",
       "      <td>1</td>\n",
       "      <td>4</td>\n",
       "      <td>263.0000</td>\n",
       "      <td>S</td>\n",
       "      <td>0</td>\n",
       "      <td>-1</td>\n",
       "    </tr>\n",
       "    <tr>\n",
       "      <th>457</th>\n",
       "      <td>3</td>\n",
       "      <td>female</td>\n",
       "      <td>16.0</td>\n",
       "      <td>5</td>\n",
       "      <td>2</td>\n",
       "      <td>46.9000</td>\n",
       "      <td>S</td>\n",
       "      <td>0</td>\n",
       "      <td>-1</td>\n",
       "    </tr>\n",
       "    <tr>\n",
       "      <th>496</th>\n",
       "      <td>3</td>\n",
       "      <td>male</td>\n",
       "      <td>NaN</td>\n",
       "      <td>8</td>\n",
       "      <td>2</td>\n",
       "      <td>69.5500</td>\n",
       "      <td>S</td>\n",
       "      <td>0</td>\n",
       "      <td>-1</td>\n",
       "    </tr>\n",
       "  </tbody>\n",
       "</table>\n",
       "</div>"
      ],
      "text/plain": [
       "     pclass     sex   age  sibsp  parch      fare embarked  survived  outlier\n",
       "47        3    male  14.0      5      2   46.9000        S         0       -1\n",
       "65        1    male   4.0      0      2   81.8583        S         1       -1\n",
       "68        1  female  15.0      0      1  211.3375        S         1       -1\n",
       "69        3  female  39.0      1      5   31.2750        S         0       -1\n",
       "133       3  female  29.0      0      4   21.0750        S         0       -1\n",
       "139       3    male   1.0      5      2   46.9000        S         0       -1\n",
       "148       3  female  45.0      1      4   27.9000        S         0       -1\n",
       "155       3  female   NaN      8      2   69.5500        S         0       -1\n",
       "183       1  female  35.0      0      0  512.3292        C         1       -1\n",
       "266       3    male   NaN      8      2   69.5500        S         0       -1\n",
       "272       3  female   NaN      8      2   69.5500        S         0       -1\n",
       "278       1  female  31.0      0      2  164.8667        S         1       -1\n",
       "310       1  female  23.0      3      2  263.0000        S         1       -1\n",
       "313       1    male  19.0      3      2  263.0000        S         0       -1\n",
       "319       2  female  24.0      2      3   18.7500        S         1       -1\n",
       "331       1  female  18.0      1      0  227.5250        C         1       -1\n",
       "373       1  female  24.0      3      2  263.0000        S         1       -1\n",
       "385       3  female  41.0      0      5   39.6875        S         0       -1\n",
       "386       1  female   2.0      1      2  151.5500        S         0       -1\n",
       "393       3  female   NaN      8      2   69.5500        S         0       -1\n",
       "439       3    male  39.0      1      5   31.2750        S         0       -1\n",
       "445       3    male   NaN      8      2   69.5500        S         0       -1\n",
       "454       1    male  64.0      1      4  263.0000        S         0       -1\n",
       "457       3  female  16.0      5      2   46.9000        S         0       -1\n",
       "496       3    male   NaN      8      2   69.5500        S         0       -1"
      ]
     },
     "execution_count": 25,
     "metadata": {},
     "output_type": "execute_result"
    }
   ],
   "source": [
    "(\n",
    "  df\n",
    "  .assign(\n",
    "    outlier = iso.fit_predict(\n",
    "      df.drop(columns='survived')\n",
    "      .select_dtypes(include='number')\n",
    "    )\n",
    "  )\n",
    "  .query(\"outlier==-1\")\n",
    ")"
   ]
  },
  {
   "cell_type": "code",
   "execution_count": 26,
   "id": "3e435ff7",
   "metadata": {},
   "outputs": [
    {
     "data": {
      "text/html": [
       "<div>\n",
       "<style scoped>\n",
       "    .dataframe tbody tr th:only-of-type {\n",
       "        vertical-align: middle;\n",
       "    }\n",
       "\n",
       "    .dataframe tbody tr th {\n",
       "        vertical-align: top;\n",
       "    }\n",
       "\n",
       "    .dataframe thead th {\n",
       "        text-align: right;\n",
       "    }\n",
       "</style>\n",
       "<table border=\"1\" class=\"dataframe\">\n",
       "  <thead>\n",
       "    <tr style=\"text-align: right;\">\n",
       "      <th></th>\n",
       "      <th>pclass</th>\n",
       "      <th>age</th>\n",
       "      <th>sibsp</th>\n",
       "      <th>parch</th>\n",
       "      <th>fare</th>\n",
       "      <th>survived</th>\n",
       "      <th>outlier</th>\n",
       "    </tr>\n",
       "  </thead>\n",
       "  <tbody>\n",
       "    <tr>\n",
       "      <th>count</th>\n",
       "      <td>25.000000</td>\n",
       "      <td>19.000000</td>\n",
       "      <td>25.000000</td>\n",
       "      <td>25.000000</td>\n",
       "      <td>25.000000</td>\n",
       "      <td>25.000000</td>\n",
       "      <td>25.0</td>\n",
       "    </tr>\n",
       "    <tr>\n",
       "      <th>mean</th>\n",
       "      <td>2.160000</td>\n",
       "      <td>25.421053</td>\n",
       "      <td>3.200000</td>\n",
       "      <td>2.440000</td>\n",
       "      <td>125.177168</td>\n",
       "      <td>0.320000</td>\n",
       "      <td>-1.0</td>\n",
       "    </tr>\n",
       "    <tr>\n",
       "      <th>std</th>\n",
       "      <td>0.986577</td>\n",
       "      <td>16.084208</td>\n",
       "      <td>3.162278</td>\n",
       "      <td>1.356466</td>\n",
       "      <td>119.274198</td>\n",
       "      <td>0.476095</td>\n",
       "      <td>0.0</td>\n",
       "    </tr>\n",
       "    <tr>\n",
       "      <th>min</th>\n",
       "      <td>1.000000</td>\n",
       "      <td>1.000000</td>\n",
       "      <td>0.000000</td>\n",
       "      <td>0.000000</td>\n",
       "      <td>18.750000</td>\n",
       "      <td>0.000000</td>\n",
       "      <td>-1.0</td>\n",
       "    </tr>\n",
       "    <tr>\n",
       "      <th>25%</th>\n",
       "      <td>1.000000</td>\n",
       "      <td>15.500000</td>\n",
       "      <td>1.000000</td>\n",
       "      <td>2.000000</td>\n",
       "      <td>46.900000</td>\n",
       "      <td>0.000000</td>\n",
       "      <td>-1.0</td>\n",
       "    </tr>\n",
       "    <tr>\n",
       "      <th>50%</th>\n",
       "      <td>3.000000</td>\n",
       "      <td>24.000000</td>\n",
       "      <td>2.000000</td>\n",
       "      <td>2.000000</td>\n",
       "      <td>69.550000</td>\n",
       "      <td>0.000000</td>\n",
       "      <td>-1.0</td>\n",
       "    </tr>\n",
       "    <tr>\n",
       "      <th>75%</th>\n",
       "      <td>3.000000</td>\n",
       "      <td>37.000000</td>\n",
       "      <td>5.000000</td>\n",
       "      <td>3.000000</td>\n",
       "      <td>211.337500</td>\n",
       "      <td>1.000000</td>\n",
       "      <td>-1.0</td>\n",
       "    </tr>\n",
       "    <tr>\n",
       "      <th>max</th>\n",
       "      <td>3.000000</td>\n",
       "      <td>64.000000</td>\n",
       "      <td>8.000000</td>\n",
       "      <td>5.000000</td>\n",
       "      <td>512.329200</td>\n",
       "      <td>1.000000</td>\n",
       "      <td>-1.0</td>\n",
       "    </tr>\n",
       "  </tbody>\n",
       "</table>\n",
       "</div>"
      ],
      "text/plain": [
       "          pclass        age      sibsp      parch        fare   survived  \\\n",
       "count  25.000000  19.000000  25.000000  25.000000   25.000000  25.000000   \n",
       "mean    2.160000  25.421053   3.200000   2.440000  125.177168   0.320000   \n",
       "std     0.986577  16.084208   3.162278   1.356466  119.274198   0.476095   \n",
       "min     1.000000   1.000000   0.000000   0.000000   18.750000   0.000000   \n",
       "25%     1.000000  15.500000   1.000000   2.000000   46.900000   0.000000   \n",
       "50%     3.000000  24.000000   2.000000   2.000000   69.550000   0.000000   \n",
       "75%     3.000000  37.000000   5.000000   3.000000  211.337500   1.000000   \n",
       "max     3.000000  64.000000   8.000000   5.000000  512.329200   1.000000   \n",
       "\n",
       "       outlier  \n",
       "count     25.0  \n",
       "mean      -1.0  \n",
       "std        0.0  \n",
       "min       -1.0  \n",
       "25%       -1.0  \n",
       "50%       -1.0  \n",
       "75%       -1.0  \n",
       "max       -1.0  "
      ]
     },
     "execution_count": 26,
     "metadata": {},
     "output_type": "execute_result"
    }
   ],
   "source": [
    "(\n",
    "  df\n",
    "  .assign(\n",
    "    outlier = iso.fit_predict(\n",
    "      df.drop(columns='survived')\n",
    "      .select_dtypes(include='number')\n",
    "    )\n",
    "  )\n",
    "  .query(\"outlier==-1\")\n",
    "  .describe()\n",
    ")"
   ]
  },
  {
   "cell_type": "markdown",
   "id": "e54173e7",
   "metadata": {},
   "source": [
    "for 5% contamination value, got 25 outlier samples"
   ]
  },
  {
   "cell_type": "markdown",
   "id": "c2128e95",
   "metadata": {},
   "source": [
    "### 5. Pair Plots "
   ]
  },
  {
   "cell_type": "code",
   "execution_count": 27,
   "id": "e9ffcb2c",
   "metadata": {},
   "outputs": [
    {
     "data": {
      "text/plain": [
       "<seaborn.axisgrid.PairGrid at 0x1e331947620>"
      ]
     },
     "execution_count": 27,
     "metadata": {},
     "output_type": "execute_result"
    },
    {
     "data": {
      "image/png": "[encoded data removed]",
      "text/plain": [
       "<Figure size 1320.49x1250 with 30 Axes>"
      ]
     },
     "metadata": {},
     "output_type": "display_data"
    }
   ],
   "source": [
    "sns.pairplot(df, hue='survived')"
   ]
  },
  {
   "cell_type": "code",
   "execution_count": 28,
   "id": "be598e13",
   "metadata": {},
   "outputs": [
    {
     "data": {
      "text/plain": [
       "pclass\n",
       "1    80.911819\n",
       "2    21.021025\n",
       "3    14.033466\n",
       "Name: fare, dtype: float64"
      ]
     },
     "execution_count": 28,
     "metadata": {},
     "output_type": "execute_result"
    }
   ],
   "source": [
    "(\n",
    "  df\n",
    "  .groupby('pclass')\n",
    "  .fare\n",
    "  .mean()\n",
    ")"
   ]
  },
  {
   "cell_type": "markdown",
   "id": "e27da5c1",
   "metadata": {},
   "source": [
    "- lower the plcass, higher the fare"
   ]
  },
  {
   "cell_type": "markdown",
   "id": "9d82c8f8",
   "metadata": {},
   "source": [
    "### 6. Co-relation analysis"
   ]
  },
  {
   "cell_type": "code",
   "execution_count": 29,
   "id": "10069a42",
   "metadata": {},
   "outputs": [
    {
     "data": {
      "image/png": "[encoded data removed]",
      "text/plain": [
       "<Figure size 1200x600 with 2 Axes>"
      ]
     },
     "metadata": {},
     "output_type": "display_data"
    }
   ],
   "source": [
    "eda_helper_functions.correlation_heatmap(df) # only for numerical features"
   ]
  },
  {
   "cell_type": "markdown",
   "id": "eb2bfc79",
   "metadata": {},
   "source": [
    "- pclass has -ve correlation with all features\n",
    "- higher the number of parents nd children, higher the fare\n",
    "- parch and sibsp r moderately co-related"
   ]
  },
  {
   "cell_type": "code",
   "execution_count": 30,
   "id": "345849c6",
   "metadata": {},
   "outputs": [
    {
     "data": {
      "text/plain": [
       "fam_size\n",
       "1     0.312500\n",
       "2     0.512500\n",
       "3     0.563636\n",
       "4     0.727273\n",
       "5     0.000000\n",
       "6     0.200000\n",
       "7     0.428571\n",
       "8     0.000000\n",
       "11    0.000000\n",
       "Name: survived, dtype: float64"
      ]
     },
     "execution_count": 30,
     "metadata": {},
     "output_type": "execute_result"
    }
   ],
   "source": [
    "(\n",
    "  df\n",
    "  .assign(\n",
    "    fam_size = lambda df_: df_.sibsp + df_.parch + 1\n",
    "  )\n",
    "  .drop(columns=['parch', 'sibsp'])\n",
    "  .groupby('fam_size')\n",
    "  .survived\n",
    "  .mean()\n",
    ")"
   ]
  },
  {
   "cell_type": "markdown",
   "id": "6c46613c",
   "metadata": {},
   "source": [
    "- family sizes of '2', '3' have higher survival rates"
   ]
  },
  {
   "cell_type": "code",
   "execution_count": 31,
   "id": "89f2400a",
   "metadata": {},
   "outputs": [
    {
     "data": {
      "image/png": "[encoded data removed]",
      "text/plain": [
       "<Figure size 640x480 with 1 Axes>"
      ]
     },
     "metadata": {},
     "output_type": "display_data"
    }
   ],
   "source": [
    "(                   \n",
    "    df              \n",
    "    .assign(fam_size = lambda d: d.sibsp + d.parch + 1)   # include self\n",
    "    .pipe(lambda d: sns.barplot(x=\"fam_size\", y=\"survived\", data=d, errorbar=None))\n",
    ")                   \n",
    "plt.title(\"Survival Rate by Family Size\")\n",
    "plt.show()          "
   ]
  },
  {
   "cell_type": "code",
   "execution_count": 32,
   "id": "53972d87",
   "metadata": {},
   "outputs": [
    {
     "data": {
      "image/png": "[encoded data removed]",
      "text/plain": [
       "<Figure size 1000x800 with 2 Axes>"
      ]
     },
     "metadata": {},
     "output_type": "display_data"
    }
   ],
   "source": [
    "eda_helper_functions.my_plot_cramers_v_heatmap(df)\n"
   ]
  },
  {
   "cell_type": "markdown",
   "id": "684ca794",
   "metadata": {},
   "source": [
    "### 7. Detailed anaylsis (feature wise)"
   ]
  },
  {
   "cell_type": "code",
   "execution_count": 33,
   "id": "2a1ccae8",
   "metadata": {},
   "outputs": [
    {
     "data": {
      "text/plain": [
       "['pclass', 'sex', 'age', 'sibsp', 'parch', 'fare', 'embarked', 'survived']"
      ]
     },
     "execution_count": 33,
     "metadata": {},
     "output_type": "execute_result"
    }
   ],
   "source": [
    "df.columns.tolist()"
   ]
  },
  {
   "cell_type": "markdown",
   "id": "2227dedc",
   "metadata": {},
   "source": [
    "7.1 `pclass`"
   ]
  },
  {
   "cell_type": "code",
   "execution_count": 34,
   "id": "1f0d3991",
   "metadata": {},
   "outputs": [
    {
     "data": {
      "text/plain": [
       "pclass\n",
       "3    279\n",
       "1    110\n",
       "2    109\n",
       "Name: count, dtype: int64"
      ]
     },
     "execution_count": 34,
     "metadata": {},
     "output_type": "execute_result"
    }
   ],
   "source": [
    "df.pclass.value_counts()"
   ]
  },
  {
   "cell_type": "code",
   "execution_count": 35,
   "id": "f7e70892",
   "metadata": {},
   "outputs": [
    {
     "data": {
      "text/plain": [
       "dtype('int64')"
      ]
     },
     "execution_count": 35,
     "metadata": {},
     "output_type": "execute_result"
    }
   ],
   "source": [
    "df.pclass.dtype"
   ]
  },
  {
   "cell_type": "code",
   "execution_count": 36,
   "id": "dae3947a",
   "metadata": {},
   "outputs": [
    {
     "data": {
      "text/html": [
       "<h2>pclass</h2>"
      ],
      "text/plain": [
       "<IPython.core.display.HTML object>"
      ]
     },
     "metadata": {},
     "output_type": "display_data"
    },
    {
     "data": {
      "text/html": [
       "<h3>Quick Glance:</h3>"
      ],
      "text/plain": [
       "<IPython.core.display.HTML object>"
      ]
     },
     "metadata": {},
     "output_type": "display_data"
    },
    {
     "data": {
      "text/plain": [
       "0      1\n",
       "1      3\n",
       "2      3\n",
       "3      3\n",
       "4      3\n",
       "      ..\n",
       "493    2\n",
       "494    3\n",
       "495    2\n",
       "496    3\n",
       "497    1\n",
       "Name: pclass, Length: 498, dtype: object"
      ]
     },
     "metadata": {},
     "output_type": "display_data"
    },
    {
     "data": {
      "text/html": [
       "<h3>Meta-data:</h3>"
      ],
      "text/plain": [
       "<IPython.core.display.HTML object>"
      ]
     },
     "metadata": {},
     "output_type": "display_data"
    },
    {
     "name": "stdout",
     "output_type": "stream",
     "text": [
      "Data Type      : object\n",
      "Cardinality    : 3 categories\n",
      "Missing Data   : 0 rows (0.00 %)\n",
      "Available Data : 498 / 498 rows\n"
     ]
    },
    {
     "data": {
      "text/html": [
       "<h3>Summary:</h3>"
      ],
      "text/plain": [
       "<IPython.core.display.HTML object>"
      ]
     },
     "metadata": {},
     "output_type": "display_data"
    },
    {
     "data": {
      "text/html": [
       "<div>\n",
       "<style scoped>\n",
       "    .dataframe tbody tr th:only-of-type {\n",
       "        vertical-align: middle;\n",
       "    }\n",
       "\n",
       "    .dataframe tbody tr th {\n",
       "        vertical-align: top;\n",
       "    }\n",
       "\n",
       "    .dataframe thead th {\n",
       "        text-align: right;\n",
       "    }\n",
       "</style>\n",
       "<table border=\"1\" class=\"dataframe\">\n",
       "  <thead>\n",
       "    <tr style=\"text-align: right;\">\n",
       "      <th></th>\n",
       "      <th></th>\n",
       "    </tr>\n",
       "  </thead>\n",
       "  <tbody>\n",
       "    <tr>\n",
       "      <th>count</th>\n",
       "      <td>498</td>\n",
       "    </tr>\n",
       "    <tr>\n",
       "      <th>unique</th>\n",
       "      <td>3</td>\n",
       "    </tr>\n",
       "    <tr>\n",
       "      <th>top</th>\n",
       "      <td>3</td>\n",
       "    </tr>\n",
       "    <tr>\n",
       "      <th>freq</th>\n",
       "      <td>279</td>\n",
       "    </tr>\n",
       "  </tbody>\n",
       "</table>\n",
       "</div>"
      ],
      "text/plain": [
       "           \n",
       "count   498\n",
       "unique    3\n",
       "top       3\n",
       "freq    279"
      ]
     },
     "metadata": {},
     "output_type": "display_data"
    },
    {
     "data": {
      "text/html": [
       "<h3>Categories Distribution:</h3>"
      ],
      "text/plain": [
       "<IPython.core.display.HTML object>"
      ]
     },
     "metadata": {},
     "output_type": "display_data"
    },
    {
     "data": {
      "text/html": [
       "<div>\n",
       "<style scoped>\n",
       "    .dataframe tbody tr th:only-of-type {\n",
       "        vertical-align: middle;\n",
       "    }\n",
       "\n",
       "    .dataframe tbody tr th {\n",
       "        vertical-align: top;\n",
       "    }\n",
       "\n",
       "    .dataframe thead th {\n",
       "        text-align: right;\n",
       "    }\n",
       "</style>\n",
       "<table border=\"1\" class=\"dataframe\">\n",
       "  <thead>\n",
       "    <tr style=\"text-align: right;\">\n",
       "      <th></th>\n",
       "      <th>count</th>\n",
       "      <th>percentage</th>\n",
       "    </tr>\n",
       "    <tr>\n",
       "      <th>category</th>\n",
       "      <th></th>\n",
       "      <th></th>\n",
       "    </tr>\n",
       "  </thead>\n",
       "  <tbody>\n",
       "    <tr>\n",
       "      <th>3</th>\n",
       "      <td>279</td>\n",
       "      <td>0.560241</td>\n",
       "    </tr>\n",
       "    <tr>\n",
       "      <th>1</th>\n",
       "      <td>110</td>\n",
       "      <td>0.220884</td>\n",
       "    </tr>\n",
       "    <tr>\n",
       "      <th>2</th>\n",
       "      <td>109</td>\n",
       "      <td>0.218876</td>\n",
       "    </tr>\n",
       "  </tbody>\n",
       "</table>\n",
       "</div>"
      ],
      "text/plain": [
       "          count  percentage\n",
       "category                   \n",
       "3           279    0.560241\n",
       "1           110    0.220884\n",
       "2           109    0.218876"
      ]
     },
     "metadata": {},
     "output_type": "display_data"
    }
   ],
   "source": [
    "(\n",
    " df\n",
    " .assign(pclass=df.pclass.astype(object))\n",
    " .pipe(lambda d: eda_helper_functions.cat_summary(d, \"pclass\")) \n",
    ")"
   ]
  },
  {
   "cell_type": "code",
   "execution_count": 37,
   "id": "2068b4d0",
   "metadata": {},
   "outputs": [],
   "source": [
    "# (    \n",
    "#   df \n",
    "#   .assign(\n",
    "#     pclass = lambda d: d.pclass.astype('category')\n",
    "#   )  \n",
    "#   .pipe(lambda d: eda_helper_functions.cat_univar_plots(d, \"pclass\"))\n",
    "# )       "
   ]
  },
  {
   "cell_type": "markdown",
   "id": "8d38861e",
   "metadata": {},
   "source": [
    "pclass = 3 have higher passengers"
   ]
  },
  {
   "cell_type": "code",
   "execution_count": 38,
   "id": "6999dd43",
   "metadata": {},
   "outputs": [
    {
     "data": {
      "text/plain": [
       "Index(['pclass', 'sex', 'age', 'sibsp', 'parch', 'fare', 'embarked',\n",
       "       'survived'],\n",
       "      dtype='object')"
      ]
     },
     "execution_count": 38,
     "metadata": {},
     "output_type": "execute_result"
    }
   ],
   "source": [
    "df.columns"
   ]
  },
  {
   "cell_type": "code",
   "execution_count": 39,
   "id": "33670309",
   "metadata": {},
   "outputs": [
    {
     "data": {
      "text/html": [
       "<h2>Bi-variate Analysis between pclass and survived</h2>"
      ],
      "text/plain": [
       "<IPython.core.display.HTML object>"
      ]
     },
     "metadata": {},
     "output_type": "display_data"
    },
    {
     "data": {
      "text/html": [
       "<h3></h3>"
      ],
      "text/plain": [
       "<IPython.core.display.HTML object>"
      ]
     },
     "metadata": {},
     "output_type": "display_data"
    },
    {
     "data": {
      "image/png": "[encoded data removed]",
      "text/plain": [
       "<Figure size 1200x850 with 6 Axes>"
      ]
     },
     "metadata": {},
     "output_type": "display_data"
    }
   ],
   "source": [
    "(\n",
    "  df\n",
    "  .assign(\n",
    "    pclass = lambda d: d.pclass.astype('object')\n",
    "  )\n",
    "  .pipe(lambda d: eda_helper_functions.cat_bivar_plots(df, \"pclass\", \"survived\"))\n",
    ")"
   ]
  },
  {
   "cell_type": "markdown",
   "id": "90290859",
   "metadata": {},
   "source": [
    "as `pclass` increases, survival chances decreases"
   ]
  },
  {
   "cell_type": "markdown",
   "id": "b849884b",
   "metadata": {},
   "source": [
    "it looks a very good predictor for our target label i.e `survived`"
   ]
  },
  {
   "cell_type": "markdown",
   "id": "7caedbdb",
   "metadata": {},
   "source": [
    "no need to scale or convert into categorical "
   ]
  },
  {
   "cell_type": "code",
   "execution_count": 40,
   "id": "9c707037",
   "metadata": {},
   "outputs": [
    {
     "data": {
      "text/plain": [
       "pclass  sex   \n",
       "1       female    0.940000\n",
       "        male      0.366667\n",
       "2       female    0.972222\n",
       "        male      0.191781\n",
       "3       female    0.506329\n",
       "        male      0.155000\n",
       "Name: survived, dtype: float64"
      ]
     },
     "execution_count": 40,
     "metadata": {},
     "output_type": "execute_result"
    }
   ],
   "source": [
    "(df\n",
    " .groupby(['pclass', 'sex'])\n",
    " .survived\n",
    " .mean()\n",
    ")"
   ]
  },
  {
   "cell_type": "code",
   "execution_count": 41,
   "id": "86a5f925",
   "metadata": {},
   "outputs": [
    {
     "data": {
      "text/html": [
       "<div>\n",
       "<style scoped>\n",
       "    .dataframe tbody tr th:only-of-type {\n",
       "        vertical-align: middle;\n",
       "    }\n",
       "\n",
       "    .dataframe tbody tr th {\n",
       "        vertical-align: top;\n",
       "    }\n",
       "\n",
       "    .dataframe thead th {\n",
       "        text-align: right;\n",
       "    }\n",
       "</style>\n",
       "<table border=\"1\" class=\"dataframe\">\n",
       "  <thead>\n",
       "    <tr style=\"text-align: right;\">\n",
       "      <th>pclass</th>\n",
       "      <th>1</th>\n",
       "      <th>2</th>\n",
       "      <th>3</th>\n",
       "    </tr>\n",
       "    <tr>\n",
       "      <th>sex</th>\n",
       "      <th></th>\n",
       "      <th></th>\n",
       "      <th></th>\n",
       "    </tr>\n",
       "  </thead>\n",
       "  <tbody>\n",
       "    <tr>\n",
       "      <th>female</th>\n",
       "      <td>0.940000</td>\n",
       "      <td>0.972222</td>\n",
       "      <td>0.506329</td>\n",
       "    </tr>\n",
       "    <tr>\n",
       "      <th>male</th>\n",
       "      <td>0.366667</td>\n",
       "      <td>0.191781</td>\n",
       "      <td>0.155000</td>\n",
       "    </tr>\n",
       "  </tbody>\n",
       "</table>\n",
       "</div>"
      ],
      "text/plain": [
       "pclass         1         2         3\n",
       "sex                                 \n",
       "female  0.940000  0.972222  0.506329\n",
       "male    0.366667  0.191781  0.155000"
      ]
     },
     "execution_count": 41,
     "metadata": {},
     "output_type": "execute_result"
    }
   ],
   "source": [
    "(\n",
    "  df\n",
    "  .groupby(['sex', 'pclass'])\n",
    "  .survived\n",
    "  .mean()\n",
    "  .unstack()\n",
    ")"
   ]
  },
  {
   "cell_type": "code",
   "execution_count": 42,
   "id": "2ed6ecd8",
   "metadata": {},
   "outputs": [
    {
     "data": {
      "text/html": [
       "<div>\n",
       "<style scoped>\n",
       "    .dataframe tbody tr th:only-of-type {\n",
       "        vertical-align: middle;\n",
       "    }\n",
       "\n",
       "    .dataframe tbody tr th {\n",
       "        vertical-align: top;\n",
       "    }\n",
       "\n",
       "    .dataframe thead th {\n",
       "        text-align: right;\n",
       "    }\n",
       "</style>\n",
       "<table border=\"1\" class=\"dataframe\">\n",
       "  <thead>\n",
       "    <tr style=\"text-align: right;\">\n",
       "      <th>pclass</th>\n",
       "      <th>1</th>\n",
       "      <th>2</th>\n",
       "      <th>3</th>\n",
       "    </tr>\n",
       "    <tr>\n",
       "      <th>sex</th>\n",
       "      <th></th>\n",
       "      <th></th>\n",
       "      <th></th>\n",
       "    </tr>\n",
       "  </thead>\n",
       "  <tbody>\n",
       "    <tr>\n",
       "      <th>female</th>\n",
       "      <td>0.940000</td>\n",
       "      <td>0.972222</td>\n",
       "      <td>0.506329</td>\n",
       "    </tr>\n",
       "    <tr>\n",
       "      <th>male</th>\n",
       "      <td>0.366667</td>\n",
       "      <td>0.191781</td>\n",
       "      <td>0.155000</td>\n",
       "    </tr>\n",
       "  </tbody>\n",
       "</table>\n",
       "</div>"
      ],
      "text/plain": [
       "pclass         1         2         3\n",
       "sex                                 \n",
       "female  0.940000  0.972222  0.506329\n",
       "male    0.366667  0.191781  0.155000"
      ]
     },
     "execution_count": 42,
     "metadata": {},
     "output_type": "execute_result"
    }
   ],
   "source": [
    "df.pivot_table(\n",
    "  index = 'sex',\n",
    "  columns='pclass',\n",
    "  values = 'survived',\n",
    "  aggfunc='mean'\n",
    ")"
   ]
  },
  {
   "cell_type": "code",
   "execution_count": 43,
   "id": "20a46072",
   "metadata": {},
   "outputs": [
    {
     "data": {
      "text/plain": [
       "Index(['pclass', 'sex', 'age', 'sibsp', 'parch', 'fare', 'embarked',\n",
       "       'survived'],\n",
       "      dtype='object')"
      ]
     },
     "execution_count": 43,
     "metadata": {},
     "output_type": "execute_result"
    }
   ],
   "source": [
    "df.columns"
   ]
  },
  {
   "cell_type": "markdown",
   "id": "e39f94e2",
   "metadata": {},
   "source": [
    "7.2 `sex`"
   ]
  },
  {
   "cell_type": "code",
   "execution_count": 44,
   "id": "3c879394",
   "metadata": {},
   "outputs": [
    {
     "data": {
      "text/plain": [
       "dtype('O')"
      ]
     },
     "execution_count": 44,
     "metadata": {},
     "output_type": "execute_result"
    }
   ],
   "source": [
    "df.sex.dtype"
   ]
  },
  {
   "cell_type": "code",
   "execution_count": 45,
   "id": "81f6a0f1",
   "metadata": {},
   "outputs": [
    {
     "data": {
      "text/html": [
       "<h2>sex</h2>"
      ],
      "text/plain": [
       "<IPython.core.display.HTML object>"
      ]
     },
     "metadata": {},
     "output_type": "display_data"
    },
    {
     "data": {
      "text/html": [
       "<h3>Quick Glance:</h3>"
      ],
      "text/plain": [
       "<IPython.core.display.HTML object>"
      ]
     },
     "metadata": {},
     "output_type": "display_data"
    },
    {
     "data": {
      "text/plain": [
       "0      female\n",
       "1      female\n",
       "2      female\n",
       "3        male\n",
       "4        male\n",
       "        ...  \n",
       "493      male\n",
       "494      male\n",
       "495      male\n",
       "496      male\n",
       "497    female\n",
       "Name: sex, Length: 498, dtype: object"
      ]
     },
     "metadata": {},
     "output_type": "display_data"
    },
    {
     "data": {
      "text/html": [
       "<h3>Meta-data:</h3>"
      ],
      "text/plain": [
       "<IPython.core.display.HTML object>"
      ]
     },
     "metadata": {},
     "output_type": "display_data"
    },
    {
     "name": "stdout",
     "output_type": "stream",
     "text": [
      "Data Type      : object\n",
      "Cardinality    : 2 categories\n",
      "Missing Data   : 0 rows (0.00 %)\n",
      "Available Data : 498 / 498 rows\n"
     ]
    },
    {
     "data": {
      "text/html": [
       "<h3>Summary:</h3>"
      ],
      "text/plain": [
       "<IPython.core.display.HTML object>"
      ]
     },
     "metadata": {},
     "output_type": "display_data"
    },
    {
     "data": {
      "text/html": [
       "<div>\n",
       "<style scoped>\n",
       "    .dataframe tbody tr th:only-of-type {\n",
       "        vertical-align: middle;\n",
       "    }\n",
       "\n",
       "    .dataframe tbody tr th {\n",
       "        vertical-align: top;\n",
       "    }\n",
       "\n",
       "    .dataframe thead th {\n",
       "        text-align: right;\n",
       "    }\n",
       "</style>\n",
       "<table border=\"1\" class=\"dataframe\">\n",
       "  <thead>\n",
       "    <tr style=\"text-align: right;\">\n",
       "      <th></th>\n",
       "      <th></th>\n",
       "    </tr>\n",
       "  </thead>\n",
       "  <tbody>\n",
       "    <tr>\n",
       "      <th>count</th>\n",
       "      <td>498</td>\n",
       "    </tr>\n",
       "    <tr>\n",
       "      <th>unique</th>\n",
       "      <td>2</td>\n",
       "    </tr>\n",
       "    <tr>\n",
       "      <th>top</th>\n",
       "      <td>male</td>\n",
       "    </tr>\n",
       "    <tr>\n",
       "      <th>freq</th>\n",
       "      <td>333</td>\n",
       "    </tr>\n",
       "  </tbody>\n",
       "</table>\n",
       "</div>"
      ],
      "text/plain": [
       "            \n",
       "count    498\n",
       "unique     2\n",
       "top     male\n",
       "freq     333"
      ]
     },
     "metadata": {},
     "output_type": "display_data"
    },
    {
     "data": {
      "text/html": [
       "<h3>Categories Distribution:</h3>"
      ],
      "text/plain": [
       "<IPython.core.display.HTML object>"
      ]
     },
     "metadata": {},
     "output_type": "display_data"
    },
    {
     "data": {
      "text/html": [
       "<div>\n",
       "<style scoped>\n",
       "    .dataframe tbody tr th:only-of-type {\n",
       "        vertical-align: middle;\n",
       "    }\n",
       "\n",
       "    .dataframe tbody tr th {\n",
       "        vertical-align: top;\n",
       "    }\n",
       "\n",
       "    .dataframe thead th {\n",
       "        text-align: right;\n",
       "    }\n",
       "</style>\n",
       "<table border=\"1\" class=\"dataframe\">\n",
       "  <thead>\n",
       "    <tr style=\"text-align: right;\">\n",
       "      <th></th>\n",
       "      <th>count</th>\n",
       "      <th>percentage</th>\n",
       "    </tr>\n",
       "    <tr>\n",
       "      <th>category</th>\n",
       "      <th></th>\n",
       "      <th></th>\n",
       "    </tr>\n",
       "  </thead>\n",
       "  <tbody>\n",
       "    <tr>\n",
       "      <th>male</th>\n",
       "      <td>333</td>\n",
       "      <td>0.668675</td>\n",
       "    </tr>\n",
       "    <tr>\n",
       "      <th>female</th>\n",
       "      <td>165</td>\n",
       "      <td>0.331325</td>\n",
       "    </tr>\n",
       "  </tbody>\n",
       "</table>\n",
       "</div>"
      ],
      "text/plain": [
       "          count  percentage\n",
       "category                   \n",
       "male        333    0.668675\n",
       "female      165    0.331325"
      ]
     },
     "metadata": {},
     "output_type": "display_data"
    }
   ],
   "source": [
    "eda_helper_functions.cat_summary(df, \"sex\")"
   ]
  },
  {
   "cell_type": "markdown",
   "id": "7e48ce5d",
   "metadata": {},
   "source": [
    "67 % are males and 33% females , need to think abt imbalance-ness here"
   ]
  },
  {
   "cell_type": "markdown",
   "id": "a2cdca64",
   "metadata": {},
   "source": [
    "also  encode this `sex` colm"
   ]
  },
  {
   "cell_type": "code",
   "execution_count": 46,
   "id": "d90a28e9",
   "metadata": {},
   "outputs": [
    {
     "data": {
      "text/html": [
       "<h2>Bi-variate Analysis between sex and survived</h2>"
      ],
      "text/plain": [
       "<IPython.core.display.HTML object>"
      ]
     },
     "metadata": {},
     "output_type": "display_data"
    },
    {
     "data": {
      "text/html": [
       "<h3></h3>"
      ],
      "text/plain": [
       "<IPython.core.display.HTML object>"
      ]
     },
     "metadata": {},
     "output_type": "display_data"
    },
    {
     "data": {
      "image/png": "[encoded data removed]",
      "text/plain": [
       "<Figure size 1200x850 with 6 Axes>"
      ]
     },
     "metadata": {},
     "output_type": "display_data"
    }
   ],
   "source": [
    "eda_helper_functions.cat_bivar_plots(df,\"sex\",\"survived\")"
   ]
  },
  {
   "cell_type": "code",
   "execution_count": 47,
   "id": "31d1b59d",
   "metadata": {},
   "outputs": [
    {
     "name": "stdout",
     "output_type": "stream",
     "text": [
      "<class 'pandas.core.frame.DataFrame'>\n",
      "RangeIndex: 498 entries, 0 to 497\n",
      "Data columns (total 8 columns):\n",
      " #   Column    Non-Null Count  Dtype  \n",
      "---  ------    --------------  -----  \n",
      " 0   pclass    498 non-null    int64  \n",
      " 1   sex       498 non-null    object \n",
      " 2   age       402 non-null    float64\n",
      " 3   sibsp     498 non-null    int64  \n",
      " 4   parch     498 non-null    int64  \n",
      " 5   fare      498 non-null    float64\n",
      " 6   embarked  497 non-null    object \n",
      " 7   survived  498 non-null    int64  \n",
      "dtypes: float64(2), int64(4), object(2)\n",
      "memory usage: 31.3+ KB\n"
     ]
    }
   ],
   "source": [
    "df.info()"
   ]
  },
  {
   "cell_type": "markdown",
   "id": "24d2914d",
   "metadata": {},
   "source": [
    "`sex` and `survived` hv good relation"
   ]
  },
  {
   "cell_type": "code",
   "execution_count": 48,
   "id": "8ca5ce14",
   "metadata": {},
   "outputs": [
    {
     "data": {
      "text/plain": [
       "Index(['pclass', 'sex', 'age', 'sibsp', 'parch', 'fare', 'embarked',\n",
       "       'survived'],\n",
       "      dtype='object')"
      ]
     },
     "execution_count": 48,
     "metadata": {},
     "output_type": "execute_result"
    }
   ],
   "source": [
    "df.columns"
   ]
  },
  {
   "cell_type": "markdown",
   "id": "5882cd92",
   "metadata": {},
   "source": [
    "7.3 `age`"
   ]
  },
  {
   "cell_type": "code",
   "execution_count": 49,
   "id": "20cdbcd6",
   "metadata": {},
   "outputs": [
    {
     "data": {
      "text/plain": [
       "dtype('float64')"
      ]
     },
     "execution_count": 49,
     "metadata": {},
     "output_type": "execute_result"
    }
   ],
   "source": [
    "df.age.dtype"
   ]
  },
  {
   "cell_type": "code",
   "execution_count": 50,
   "id": "e5d07b87",
   "metadata": {},
   "outputs": [
    {
     "data": {
      "text/html": [
       "<h2>age</h2>"
      ],
      "text/plain": [
       "<IPython.core.display.HTML object>"
      ]
     },
     "metadata": {},
     "output_type": "display_data"
    },
    {
     "data": {
      "text/html": [
       "<h3>Quick Glance:</h3>"
      ],
      "text/plain": [
       "<IPython.core.display.HTML object>"
      ]
     },
     "metadata": {},
     "output_type": "display_data"
    },
    {
     "data": {
      "text/plain": [
       "0      24.0\n",
       "1       3.0\n",
       "2      16.0\n",
       "3      32.0\n",
       "4      22.0\n",
       "       ... \n",
       "493    52.0\n",
       "494    33.0\n",
       "495     NaN\n",
       "496     NaN\n",
       "497    56.0\n",
       "Name: age, Length: 498, dtype: float64"
      ]
     },
     "metadata": {},
     "output_type": "display_data"
    },
    {
     "data": {
      "text/html": [
       "<h3>Meta-data:</h3>"
      ],
      "text/plain": [
       "<IPython.core.display.HTML object>"
      ]
     },
     "metadata": {},
     "output_type": "display_data"
    },
    {
     "name": "stdout",
     "output_type": "stream",
     "text": [
      "Data Type      : float64\n",
      "Missing Data   : 96 rows (19.28 %)\n",
      "Available Data : 402 / 498 rows\n"
     ]
    },
    {
     "data": {
      "text/html": [
       "<h3>Percentiles:</h3>"
      ],
      "text/plain": [
       "<IPython.core.display.HTML object>"
      ]
     },
     "metadata": {},
     "output_type": "display_data"
    },
    {
     "data": {
      "text/html": [
       "<div>\n",
       "<style scoped>\n",
       "    .dataframe tbody tr th:only-of-type {\n",
       "        vertical-align: middle;\n",
       "    }\n",
       "\n",
       "    .dataframe tbody tr th {\n",
       "        vertical-align: top;\n",
       "    }\n",
       "\n",
       "    .dataframe thead th {\n",
       "        text-align: right;\n",
       "    }\n",
       "</style>\n",
       "<table border=\"1\" class=\"dataframe\">\n",
       "  <thead>\n",
       "    <tr style=\"text-align: right;\">\n",
       "      <th></th>\n",
       "      <th>value</th>\n",
       "    </tr>\n",
       "    <tr>\n",
       "      <th>percentile</th>\n",
       "      <th></th>\n",
       "    </tr>\n",
       "  </thead>\n",
       "  <tbody>\n",
       "    <tr>\n",
       "      <th>0</th>\n",
       "      <td>0.67</td>\n",
       "    </tr>\n",
       "    <tr>\n",
       "      <th>5</th>\n",
       "      <td>3.00</td>\n",
       "    </tr>\n",
       "    <tr>\n",
       "      <th>10</th>\n",
       "      <td>9.20</td>\n",
       "    </tr>\n",
       "    <tr>\n",
       "      <th>25</th>\n",
       "      <td>20.00</td>\n",
       "    </tr>\n",
       "    <tr>\n",
       "      <th>50</th>\n",
       "      <td>28.00</td>\n",
       "    </tr>\n",
       "    <tr>\n",
       "      <th>75</th>\n",
       "      <td>38.00</td>\n",
       "    </tr>\n",
       "    <tr>\n",
       "      <th>90</th>\n",
       "      <td>49.00</td>\n",
       "    </tr>\n",
       "    <tr>\n",
       "      <th>95</th>\n",
       "      <td>54.95</td>\n",
       "    </tr>\n",
       "    <tr>\n",
       "      <th>99</th>\n",
       "      <td>69.94</td>\n",
       "    </tr>\n",
       "    <tr>\n",
       "      <th>100</th>\n",
       "      <td>80.00</td>\n",
       "    </tr>\n",
       "  </tbody>\n",
       "</table>\n",
       "</div>"
      ],
      "text/plain": [
       "            value\n",
       "percentile       \n",
       "0            0.67\n",
       "5            3.00\n",
       "10           9.20\n",
       "25          20.00\n",
       "50          28.00\n",
       "75          38.00\n",
       "90          49.00\n",
       "95          54.95\n",
       "99          69.94\n",
       "100         80.00"
      ]
     },
     "metadata": {},
     "output_type": "display_data"
    },
    {
     "data": {
      "text/html": [
       "<h3>Central Tendancy:</h3>"
      ],
      "text/plain": [
       "<IPython.core.display.HTML object>"
      ]
     },
     "metadata": {},
     "output_type": "display_data"
    },
    {
     "data": {
      "text/html": [
       "<div>\n",
       "<style scoped>\n",
       "    .dataframe tbody tr th:only-of-type {\n",
       "        vertical-align: middle;\n",
       "    }\n",
       "\n",
       "    .dataframe tbody tr th {\n",
       "        vertical-align: top;\n",
       "    }\n",
       "\n",
       "    .dataframe thead th {\n",
       "        text-align: right;\n",
       "    }\n",
       "</style>\n",
       "<table border=\"1\" class=\"dataframe\">\n",
       "  <thead>\n",
       "    <tr style=\"text-align: right;\">\n",
       "      <th></th>\n",
       "      <th>value</th>\n",
       "    </tr>\n",
       "  </thead>\n",
       "  <tbody>\n",
       "    <tr>\n",
       "      <th>mean</th>\n",
       "      <td>29.309701</td>\n",
       "    </tr>\n",
       "    <tr>\n",
       "      <th>trimmed mean (5%)</th>\n",
       "      <td>NaN</td>\n",
       "    </tr>\n",
       "    <tr>\n",
       "      <th>trimmed mean (10%)</th>\n",
       "      <td>NaN</td>\n",
       "    </tr>\n",
       "    <tr>\n",
       "      <th>median</th>\n",
       "      <td>28.000000</td>\n",
       "    </tr>\n",
       "  </tbody>\n",
       "</table>\n",
       "</div>"
      ],
      "text/plain": [
       "                        value\n",
       "mean                29.309701\n",
       "trimmed mean (5%)         NaN\n",
       "trimmed mean (10%)        NaN\n",
       "median              28.000000"
      ]
     },
     "metadata": {},
     "output_type": "display_data"
    },
    {
     "data": {
      "text/html": [
       "<h3>Measure of Spread:</h3>"
      ],
      "text/plain": [
       "<IPython.core.display.HTML object>"
      ]
     },
     "metadata": {},
     "output_type": "display_data"
    },
    {
     "data": {
      "text/html": [
       "<div>\n",
       "<style scoped>\n",
       "    .dataframe tbody tr th:only-of-type {\n",
       "        vertical-align: middle;\n",
       "    }\n",
       "\n",
       "    .dataframe tbody tr th {\n",
       "        vertical-align: top;\n",
       "    }\n",
       "\n",
       "    .dataframe thead th {\n",
       "        text-align: right;\n",
       "    }\n",
       "</style>\n",
       "<table border=\"1\" class=\"dataframe\">\n",
       "  <thead>\n",
       "    <tr style=\"text-align: right;\">\n",
       "      <th></th>\n",
       "      <th>value</th>\n",
       "    </tr>\n",
       "  </thead>\n",
       "  <tbody>\n",
       "    <tr>\n",
       "      <th>var</th>\n",
       "      <td>214.506122</td>\n",
       "    </tr>\n",
       "    <tr>\n",
       "      <th>std</th>\n",
       "      <td>14.646028</td>\n",
       "    </tr>\n",
       "    <tr>\n",
       "      <th>IQR</th>\n",
       "      <td>18.000000</td>\n",
       "    </tr>\n",
       "    <tr>\n",
       "      <th>mad</th>\n",
       "      <td>9.000000</td>\n",
       "    </tr>\n",
       "    <tr>\n",
       "      <th>coef_variance</th>\n",
       "      <td>0.499699</td>\n",
       "    </tr>\n",
       "  </tbody>\n",
       "</table>\n",
       "</div>"
      ],
      "text/plain": [
       "                    value\n",
       "var            214.506122\n",
       "std             14.646028\n",
       "IQR             18.000000\n",
       "mad              9.000000\n",
       "coef_variance    0.499699"
      ]
     },
     "metadata": {},
     "output_type": "display_data"
    },
    {
     "data": {
      "text/html": [
       "<h3>Skewness and Kurtosis:</h3>"
      ],
      "text/plain": [
       "<IPython.core.display.HTML object>"
      ]
     },
     "metadata": {},
     "output_type": "display_data"
    },
    {
     "data": {
      "text/html": [
       "<div>\n",
       "<style scoped>\n",
       "    .dataframe tbody tr th:only-of-type {\n",
       "        vertical-align: middle;\n",
       "    }\n",
       "\n",
       "    .dataframe tbody tr th {\n",
       "        vertical-align: top;\n",
       "    }\n",
       "\n",
       "    .dataframe thead th {\n",
       "        text-align: right;\n",
       "    }\n",
       "</style>\n",
       "<table border=\"1\" class=\"dataframe\">\n",
       "  <thead>\n",
       "    <tr style=\"text-align: right;\">\n",
       "      <th></th>\n",
       "      <th>value</th>\n",
       "    </tr>\n",
       "  </thead>\n",
       "  <tbody>\n",
       "    <tr>\n",
       "      <th>skewness</th>\n",
       "      <td>0.336265</td>\n",
       "    </tr>\n",
       "    <tr>\n",
       "      <th>kurtosis</th>\n",
       "      <td>0.275051</td>\n",
       "    </tr>\n",
       "  </tbody>\n",
       "</table>\n",
       "</div>"
      ],
      "text/plain": [
       "             value\n",
       "skewness  0.336265\n",
       "kurtosis  0.275051"
      ]
     },
     "metadata": {},
     "output_type": "display_data"
    },
    {
     "data": {
      "text/html": [
       "<h3>Hypothesis Testing for Normality:</h3>"
      ],
      "text/plain": [
       "<IPython.core.display.HTML object>"
      ]
     },
     "metadata": {},
     "output_type": "display_data"
    },
    {
     "data": {
      "text/html": [
       "<h4>Shapiro-Wilk Test:</h4>"
      ],
      "text/plain": [
       "<IPython.core.display.HTML object>"
      ]
     },
     "metadata": {},
     "output_type": "display_data"
    },
    {
     "name": "stdout",
     "output_type": "stream",
     "text": [
      "Significance Level   : 0.05\n",
      "Null Hypothesis      : The data is normally distributed\n",
      "Alternate Hypothesis : The data is not normally distributed\n",
      "p-value              : 3.966548472220616e-05\n",
      "Test Statistic       : 0.9810161181935427\n",
      "- Since p-value is less than alpha (0.05), we Reject the Null Hypothesis at 5.0% significance level\n",
      "- CONCLUSION: We conclude that the data sample is not normally distributed\n"
     ]
    },
    {
     "data": {
      "text/html": [
       "<h4>Anderson-Darling Test:</h4>"
      ],
      "text/plain": [
       "<IPython.core.display.HTML object>"
      ]
     },
     "metadata": {},
     "output_type": "display_data"
    },
    {
     "name": "stdout",
     "output_type": "stream",
     "text": [
      "Significance Level   : 0.05\n",
      "Null Hypothesis      : The data is normally distributed\n",
      "Alternate Hypothesis : The data is not normally distributed\n",
      "Critical Value       : 0.779\n",
      "Test Statistic       : 1.966090743725772\n",
      "- Since the Test-statistic is greater than Critical Value, we Reject the Null Hypothesis at 5.0% significance level\n",
      "- CONCLUSION: We conclude that the data sample is not normally distributed\n"
     ]
    }
   ],
   "source": [
    "eda_helper_functions.num_summary(df, \"age\")"
   ]
  },
  {
   "cell_type": "code",
   "execution_count": 51,
   "id": "a832f446",
   "metadata": {},
   "outputs": [
    {
     "data": {
      "text/html": [
       "<h2>Univariate Analysis of age</h2>"
      ],
      "text/plain": [
       "<IPython.core.display.HTML object>"
      ]
     },
     "metadata": {},
     "output_type": "display_data"
    },
    {
     "data": {
      "text/html": [
       "<h3></h3>"
      ],
      "text/plain": [
       "<IPython.core.display.HTML object>"
      ]
     },
     "metadata": {},
     "output_type": "display_data"
    },
    {
     "data": {
      "image/png": "[encoded data removed]",
      "text/plain": [
       "<Figure size 1500x700 with 6 Axes>"
      ]
     },
     "metadata": {},
     "output_type": "display_data"
    }
   ],
   "source": [
    "eda_helper_functions.num_univar_plots(df, \"age\")"
   ]
  },
  {
   "cell_type": "markdown",
   "id": "7d7fce7a",
   "metadata": {},
   "source": [
    "`age` is right skewed and has outliers along with missing values"
   ]
  },
  {
   "cell_type": "code",
   "execution_count": 52,
   "id": "5fde39fb",
   "metadata": {},
   "outputs": [
    {
     "data": {
      "text/html": [
       "<h2>Bi-variate Analysis between age and survived</h2>"
      ],
      "text/plain": [
       "<IPython.core.display.HTML object>"
      ]
     },
     "metadata": {},
     "output_type": "display_data"
    },
    {
     "data": {
      "text/html": [
       "<h3></h3>"
      ],
      "text/plain": [
       "<IPython.core.display.HTML object>"
      ]
     },
     "metadata": {},
     "output_type": "display_data"
    },
    {
     "data": {
      "image/png": "[encoded data removed]",
      "text/plain": [
       "<Figure size 1200x450 with 3 Axes>"
      ]
     },
     "metadata": {},
     "output_type": "display_data"
    }
   ],
   "source": [
    "eda_helper_functions.num_bivar_plots(df, \"age\",\"survived\")"
   ]
  },
  {
   "cell_type": "code",
   "execution_count": 53,
   "id": "16b52ae5",
   "metadata": {},
   "outputs": [
    {
     "data": {
      "text/plain": [
       "np.float64(0.6097560975609756)"
      ]
     },
     "execution_count": 53,
     "metadata": {},
     "output_type": "execute_result"
    }
   ],
   "source": [
    "df[df['age']<10].survived.mean()"
   ]
  },
  {
   "cell_type": "code",
   "execution_count": 54,
   "id": "35471dde",
   "metadata": {},
   "outputs": [
    {
     "data": {
      "text/plain": [
       "survived\n",
       "1    0.609756\n",
       "0    0.390244\n",
       "Name: proportion, dtype: float64"
      ]
     },
     "execution_count": 54,
     "metadata": {},
     "output_type": "execute_result"
    }
   ],
   "source": [
    "df[df['age'] < 10].survived.value_counts(normalize=True)\n"
   ]
  },
  {
   "cell_type": "code",
   "execution_count": 55,
   "id": "e23dc1a7",
   "metadata": {},
   "outputs": [
    {
     "data": {
      "text/plain": [
       "np.float64(0.3559322033898305)"
      ]
     },
     "execution_count": 55,
     "metadata": {},
     "output_type": "execute_result"
    }
   ],
   "source": [
    "df[df['age']>35].survived.mean()"
   ]
  },
  {
   "cell_type": "code",
   "execution_count": 56,
   "id": "834f1c46",
   "metadata": {},
   "outputs": [
    {
     "data": {
      "image/png": "[encoded data removed]",
      "text/plain": [
       "<Figure size 800x500 with 1 Axes>"
      ]
     },
     "metadata": {},
     "output_type": "display_data"
    }
   ],
   "source": [
    "plt.figure(figsize=(8,5))\n",
    "sns.histplot(data=df, x='age', hue='survived', bins=30, multiple='dodge', shrink=0.8)\n",
    "plt.title(\"Distribution of Survival by Age\")\n",
    "plt.xlabel(\"Age\")\n",
    "plt.ylabel(\"Count\")\n",
    "plt.show()\n"
   ]
  },
  {
   "cell_type": "markdown",
   "id": "131bd608",
   "metadata": {},
   "source": [
    "- `age` has missing values \n",
    "- since median < mean, its right skewed i.e skewness > 0\n",
    "- Impute missing Age values (e.g., median age grouped by Pclass + Sex)."
   ]
  },
  {
   "cell_type": "markdown",
   "id": "57844d17",
   "metadata": {},
   "source": [
    "#### 7.3.1 Age(missing values)"
   ]
  },
  {
   "cell_type": "markdown",
   "id": "d55966a9",
   "metadata": {},
   "source": [
    "Always decide imputation strategy during EDA,\n",
    "but fit imputers only on train data to avoid leakage."
   ]
  },
  {
   "cell_type": "markdown",
   "id": "d7de4143",
   "metadata": {},
   "source": [
    "👉 Outliers are only checked after missing values are identified, because otherwise a missing \n",
    "value could trick you (e.g., if someone coded missing as Age = 999)."
   ]
  },
  {
   "cell_type": "markdown",
   "id": "07a06417",
   "metadata": {},
   "source": [
    "✅ So the order is:\n",
    "\n",
    "Step 1: Check missing values → know how bad the problem is.\n",
    "\n",
    "Step 2: Check outliers → see if extreme values distort the data.\n",
    "\n",
    "Step 3: Fill missing values (using median/mean/etc.) → but only after you’ve handled obvious outliers."
   ]
  },
  {
   "cell_type": "code",
   "execution_count": 57,
   "id": "bd773c07",
   "metadata": {},
   "outputs": [
    {
     "data": {
      "text/plain": [
       "0.0"
      ]
     },
     "execution_count": 57,
     "metadata": {},
     "output_type": "execute_result"
    }
   ],
   "source": [
    "(df[df.age>80].shape[0]/ df.shape[0])*100"
   ]
  },
  {
   "cell_type": "markdown",
   "id": "037d23e5",
   "metadata": {},
   "source": [
    "Note: cap age values > 80 to 80 "
   ]
  },
  {
   "cell_type": "code",
   "execution_count": 58,
   "id": "202a6ae4",
   "metadata": {},
   "outputs": [
    {
     "data": {
      "text/plain": [
       "pclass\n",
       "1    0.109091\n",
       "2    0.091743\n",
       "3    0.265233\n",
       "Name: age_missing, dtype: float64"
      ]
     },
     "execution_count": 58,
     "metadata": {},
     "output_type": "execute_result"
    }
   ],
   "source": [
    "(\n",
    "  df\n",
    "  .assign(\n",
    "    age_missing = lambda d:  d.age.isnull().astype(int)\n",
    "  )\n",
    "  .groupby('pclass')\n",
    "  .age_missing\n",
    "  .mean()\n",
    "  \n",
    ")"
   ]
  },
  {
   "cell_type": "markdown",
   "id": "79c3e99f",
   "metadata": {},
   "source": [
    "#### 7.3.2 Finding imputing strategy for `age` colm"
   ]
  },
  {
   "cell_type": "markdown",
   "id": "9ef63237",
   "metadata": {},
   "source": [
    "Note : cap all values > 80 for age colm to 80\n",
    "Methods are \n",
    "- Remove rows with missing values \n",
    "- Simple Imputer \n",
    "- KNN imputer\n",
    "- Iterative Imputer \n",
    "- Missing Indicator "
   ]
  },
  {
   "cell_type": "markdown",
   "id": "77543065",
   "metadata": {},
   "source": [
    "missing value imputation \n",
    "- did capping for `age` > 70 to 70 \n",
    "- median imputation as per `pclass`\n"
   ]
  },
  {
   "cell_type": "code",
   "execution_count": 59,
   "id": "b6de36ef",
   "metadata": {},
   "outputs": [
    {
     "data": {
      "text/plain": [
       "np.int64(0)"
      ]
     },
     "execution_count": 59,
     "metadata": {},
     "output_type": "execute_result"
    }
   ],
   "source": [
    "(   \n",
    "  df    \n",
    "  .assign(age = lambda d: d.age.clip(upper=70))\n",
    "  .groupby('pclass')\n",
    "  .age  \n",
    "  .transform(\n",
    "    lambda x: x.fillna(x.median())\n",
    "  )     \n",
    "  .isnull()\n",
    "  .sum()\n",
    ")          "
   ]
  },
  {
   "cell_type": "markdown",
   "id": "2feb0bde",
   "metadata": {},
   "source": [
    "checking below if numbers > 70 r now in `age` colm"
   ]
  },
  {
   "cell_type": "code",
   "execution_count": 60,
   "id": "57263e5f",
   "metadata": {},
   "outputs": [
    {
     "data": {
      "text/html": [
       "<div>\n",
       "<style scoped>\n",
       "    .dataframe tbody tr th:only-of-type {\n",
       "        vertical-align: middle;\n",
       "    }\n",
       "\n",
       "    .dataframe tbody tr th {\n",
       "        vertical-align: top;\n",
       "    }\n",
       "\n",
       "    .dataframe thead th {\n",
       "        text-align: right;\n",
       "    }\n",
       "</style>\n",
       "<table border=\"1\" class=\"dataframe\">\n",
       "  <thead>\n",
       "    <tr style=\"text-align: right;\">\n",
       "      <th></th>\n",
       "      <th>pclass</th>\n",
       "      <th>sex</th>\n",
       "      <th>age</th>\n",
       "      <th>sibsp</th>\n",
       "      <th>parch</th>\n",
       "      <th>fare</th>\n",
       "      <th>embarked</th>\n",
       "      <th>survived</th>\n",
       "    </tr>\n",
       "  </thead>\n",
       "  <tbody>\n",
       "  </tbody>\n",
       "</table>\n",
       "</div>"
      ],
      "text/plain": [
       "Empty DataFrame\n",
       "Columns: [pclass, sex, age, sibsp, parch, fare, embarked, survived]\n",
       "Index: []"
      ]
     },
     "execution_count": 60,
     "metadata": {},
     "output_type": "execute_result"
    }
   ],
   "source": [
    "(\n",
    "  df\n",
    "  .assign(\n",
    "    age = lambda d: (\n",
    "      d\n",
    "      .age\n",
    "      .clip(upper=70)\n",
    "      .groupby(d.pclass)\n",
    "      .transform(\n",
    "        lambda d: d.fillna(d.median())\n",
    "      )\n",
    "    )\n",
    "  )\n",
    "  .query(\"age>70\") # query works only on data frame \n",
    ")"
   ]
  },
  {
   "cell_type": "markdown",
   "id": "6d18974f",
   "metadata": {},
   "source": [
    "Quick numeric checks (no listing of rows)"
   ]
  },
  {
   "cell_type": "code",
   "execution_count": 61,
   "id": "77dc4d69",
   "metadata": {},
   "outputs": [
    {
     "data": {
      "text/plain": [
       "0      False\n",
       "1      False\n",
       "2      False\n",
       "3      False\n",
       "4      False\n",
       "       ...  \n",
       "493    False\n",
       "494    False\n",
       "495    False\n",
       "496    False\n",
       "497    False\n",
       "Name: age, Length: 498, dtype: bool"
      ]
     },
     "execution_count": 61,
     "metadata": {},
     "output_type": "execute_result"
    }
   ],
   "source": [
    "(\n",
    "  df\n",
    "  .assign(\n",
    "    age = lambda d: (\n",
    "      d\n",
    "      .age\n",
    "      .clip(upper=80)\n",
    "      .groupby(d.pclass)\n",
    "      .transform( \n",
    "        lambda d: (\n",
    "          d.fillna(d.median())  \n",
    "        )\n",
    "      )\n",
    "    )\n",
    "  )\n",
    "  .age\n",
    "  .gt(70)  \n",
    ")"
   ]
  },
  {
   "cell_type": "code",
   "execution_count": 62,
   "id": "75a95c21",
   "metadata": {},
   "outputs": [
    {
     "data": {
      "text/plain": [
       "np.int64(0)"
      ]
     },
     "execution_count": 62,
     "metadata": {},
     "output_type": "execute_result"
    }
   ],
   "source": [
    "(\n",
    "  df\n",
    "  .assign(\n",
    "    age = lambda d: (\n",
    "      d\n",
    "      .age\n",
    "      .clip(upper=80)\n",
    "      .groupby(d.pclass)\n",
    "      .transform( \n",
    "        lambda d: (\n",
    "          d.fillna(d.median())  \n",
    "        )\n",
    "      )\n",
    "    )\n",
    "  )\n",
    "  .age\n",
    "  .gt(80) \n",
    "  .sum() \n",
    ")"
   ]
  },
  {
   "cell_type": "markdown",
   "id": "dea312eb",
   "metadata": {},
   "source": [
    "- ✨ So your mental model should be:\n",
    "- assign: DataFrame level\n",
    "- transform: column/group level (Series)"
   ]
  },
  {
   "cell_type": "markdown",
   "id": "645ee7b4",
   "metadata": {},
   "source": [
    "knn imputer method "
   ]
  },
  {
   "cell_type": "markdown",
   "id": "e91cd1d5",
   "metadata": {},
   "source": [
    "- ⚠️ KNNImputer only works with numeric columns.\n"
   ]
  },
  {
   "cell_type": "code",
   "execution_count": 63,
   "id": "5622c722",
   "metadata": {},
   "outputs": [],
   "source": [
    "from sklearn.impute import KNNImputer\n",
    "knn_imputer = KNNImputer()"
   ]
  },
  {
   "cell_type": "code",
   "execution_count": 64,
   "id": "fdb93db4",
   "metadata": {},
   "outputs": [
    {
     "name": "stdout",
     "output_type": "stream",
     "text": [
      "<class 'pandas.core.frame.DataFrame'>\n",
      "RangeIndex: 498 entries, 0 to 497\n",
      "Data columns (total 8 columns):\n",
      " #   Column    Non-Null Count  Dtype  \n",
      "---  ------    --------------  -----  \n",
      " 0   pclass    498 non-null    int64  \n",
      " 1   sex       498 non-null    object \n",
      " 2   age       402 non-null    float64\n",
      " 3   sibsp     498 non-null    int64  \n",
      " 4   parch     498 non-null    int64  \n",
      " 5   fare      498 non-null    float64\n",
      " 6   embarked  497 non-null    object \n",
      " 7   survived  498 non-null    int64  \n",
      "dtypes: float64(2), int64(4), object(2)\n",
      "memory usage: 31.3+ KB\n"
     ]
    }
   ],
   "source": [
    "df.info()"
   ]
  },
  {
   "cell_type": "markdown",
   "id": "488d468c",
   "metadata": {},
   "source": [
    "- 👉 Outliers only make sense for numeric features (continuous or ordered)."
   ]
  },
  {
   "cell_type": "markdown",
   "id": "dd492380",
   "metadata": {},
   "source": [
    "-  So, the order is:\n",
    "  👉 For each numerical column:\n",
    "  Look at % missing.\n",
    "  Look at outliers (only on valid values).\n",
    "  Fix outliers (drop/cap).\n",
    "  Then impute missing values sensibly (median, KNN, regression, etc.)."
   ]
  },
  {
   "cell_type": "markdown",
   "id": "84b9f809",
   "metadata": {},
   "source": [
    "doing outlier analysis for `age` colm using isolation forest "
   ]
  },
  {
   "cell_type": "code",
   "execution_count": 65,
   "id": "c5be10b4",
   "metadata": {},
   "outputs": [],
   "source": [
    "# (\n",
    "#   df\n",
    "#   .assign(\n",
    "#     outlier = iso.fit_predict(\n",
    "#       df.drop(columns='survived')\n",
    "#       .select_dtypes(include='number')\n",
    "#     )\n",
    "#   )\n",
    "#   .outlier\n",
    "#   .value_counts()\n",
    "# )"
   ]
  },
  {
   "cell_type": "code",
   "execution_count": 66,
   "id": "e0f10093",
   "metadata": {},
   "outputs": [
    {
     "data": {
      "text/html": [
       "<div>\n",
       "<style scoped>\n",
       "    .dataframe tbody tr th:only-of-type {\n",
       "        vertical-align: middle;\n",
       "    }\n",
       "\n",
       "    .dataframe tbody tr th {\n",
       "        vertical-align: top;\n",
       "    }\n",
       "\n",
       "    .dataframe thead th {\n",
       "        text-align: right;\n",
       "    }\n",
       "</style>\n",
       "<table border=\"1\" class=\"dataframe\">\n",
       "  <thead>\n",
       "    <tr style=\"text-align: right;\">\n",
       "      <th></th>\n",
       "      <th>pclass</th>\n",
       "      <th>sex</th>\n",
       "      <th>age</th>\n",
       "      <th>sibsp</th>\n",
       "      <th>parch</th>\n",
       "      <th>fare</th>\n",
       "      <th>embarked</th>\n",
       "      <th>survived</th>\n",
       "      <th>age_iso</th>\n",
       "    </tr>\n",
       "  </thead>\n",
       "  <tbody>\n",
       "    <tr>\n",
       "      <th>32</th>\n",
       "      <td>1</td>\n",
       "      <td>male</td>\n",
       "      <td>70.00</td>\n",
       "      <td>1</td>\n",
       "      <td>1</td>\n",
       "      <td>71.0000</td>\n",
       "      <td>S</td>\n",
       "      <td>0</td>\n",
       "      <td>-1.0</td>\n",
       "    </tr>\n",
       "    <tr>\n",
       "      <th>75</th>\n",
       "      <td>2</td>\n",
       "      <td>male</td>\n",
       "      <td>62.00</td>\n",
       "      <td>0</td>\n",
       "      <td>0</td>\n",
       "      <td>10.5000</td>\n",
       "      <td>S</td>\n",
       "      <td>1</td>\n",
       "      <td>-1.0</td>\n",
       "    </tr>\n",
       "    <tr>\n",
       "      <th>76</th>\n",
       "      <td>3</td>\n",
       "      <td>male</td>\n",
       "      <td>12.00</td>\n",
       "      <td>1</td>\n",
       "      <td>0</td>\n",
       "      <td>11.2417</td>\n",
       "      <td>C</td>\n",
       "      <td>1</td>\n",
       "      <td>-1.0</td>\n",
       "    </tr>\n",
       "    <tr>\n",
       "      <th>99</th>\n",
       "      <td>3</td>\n",
       "      <td>male</td>\n",
       "      <td>70.50</td>\n",
       "      <td>0</td>\n",
       "      <td>0</td>\n",
       "      <td>7.7500</td>\n",
       "      <td>Q</td>\n",
       "      <td>0</td>\n",
       "      <td>-1.0</td>\n",
       "    </tr>\n",
       "    <tr>\n",
       "      <th>171</th>\n",
       "      <td>3</td>\n",
       "      <td>male</td>\n",
       "      <td>6.00</td>\n",
       "      <td>0</td>\n",
       "      <td>1</td>\n",
       "      <td>12.4750</td>\n",
       "      <td>S</td>\n",
       "      <td>1</td>\n",
       "      <td>-1.0</td>\n",
       "    </tr>\n",
       "    <tr>\n",
       "      <th>208</th>\n",
       "      <td>3</td>\n",
       "      <td>male</td>\n",
       "      <td>7.00</td>\n",
       "      <td>4</td>\n",
       "      <td>1</td>\n",
       "      <td>29.1250</td>\n",
       "      <td>Q</td>\n",
       "      <td>0</td>\n",
       "      <td>-1.0</td>\n",
       "    </tr>\n",
       "    <tr>\n",
       "      <th>223</th>\n",
       "      <td>2</td>\n",
       "      <td>female</td>\n",
       "      <td>5.00</td>\n",
       "      <td>1</td>\n",
       "      <td>2</td>\n",
       "      <td>27.7500</td>\n",
       "      <td>S</td>\n",
       "      <td>1</td>\n",
       "      <td>-1.0</td>\n",
       "    </tr>\n",
       "    <tr>\n",
       "      <th>263</th>\n",
       "      <td>3</td>\n",
       "      <td>female</td>\n",
       "      <td>0.75</td>\n",
       "      <td>2</td>\n",
       "      <td>1</td>\n",
       "      <td>19.2583</td>\n",
       "      <td>C</td>\n",
       "      <td>1</td>\n",
       "      <td>-1.0</td>\n",
       "    </tr>\n",
       "    <tr>\n",
       "      <th>275</th>\n",
       "      <td>2</td>\n",
       "      <td>male</td>\n",
       "      <td>70.00</td>\n",
       "      <td>0</td>\n",
       "      <td>0</td>\n",
       "      <td>10.5000</td>\n",
       "      <td>S</td>\n",
       "      <td>0</td>\n",
       "      <td>-1.0</td>\n",
       "    </tr>\n",
       "    <tr>\n",
       "      <th>277</th>\n",
       "      <td>3</td>\n",
       "      <td>male</td>\n",
       "      <td>11.00</td>\n",
       "      <td>0</td>\n",
       "      <td>0</td>\n",
       "      <td>18.7875</td>\n",
       "      <td>C</td>\n",
       "      <td>0</td>\n",
       "      <td>-1.0</td>\n",
       "    </tr>\n",
       "    <tr>\n",
       "      <th>280</th>\n",
       "      <td>3</td>\n",
       "      <td>male</td>\n",
       "      <td>7.00</td>\n",
       "      <td>4</td>\n",
       "      <td>1</td>\n",
       "      <td>39.6875</td>\n",
       "      <td>S</td>\n",
       "      <td>0</td>\n",
       "      <td>-1.0</td>\n",
       "    </tr>\n",
       "    <tr>\n",
       "      <th>286</th>\n",
       "      <td>3</td>\n",
       "      <td>female</td>\n",
       "      <td>5.00</td>\n",
       "      <td>4</td>\n",
       "      <td>2</td>\n",
       "      <td>31.3875</td>\n",
       "      <td>S</td>\n",
       "      <td>1</td>\n",
       "      <td>-1.0</td>\n",
       "    </tr>\n",
       "    <tr>\n",
       "      <th>296</th>\n",
       "      <td>1</td>\n",
       "      <td>male</td>\n",
       "      <td>62.00</td>\n",
       "      <td>0</td>\n",
       "      <td>0</td>\n",
       "      <td>26.5500</td>\n",
       "      <td>S</td>\n",
       "      <td>0</td>\n",
       "      <td>-1.0</td>\n",
       "    </tr>\n",
       "    <tr>\n",
       "      <th>343</th>\n",
       "      <td>2</td>\n",
       "      <td>male</td>\n",
       "      <td>0.83</td>\n",
       "      <td>1</td>\n",
       "      <td>1</td>\n",
       "      <td>18.7500</td>\n",
       "      <td>S</td>\n",
       "      <td>1</td>\n",
       "      <td>-1.0</td>\n",
       "    </tr>\n",
       "    <tr>\n",
       "      <th>358</th>\n",
       "      <td>1</td>\n",
       "      <td>male</td>\n",
       "      <td>80.00</td>\n",
       "      <td>0</td>\n",
       "      <td>0</td>\n",
       "      <td>30.0000</td>\n",
       "      <td>S</td>\n",
       "      <td>1</td>\n",
       "      <td>-1.0</td>\n",
       "    </tr>\n",
       "    <tr>\n",
       "      <th>403</th>\n",
       "      <td>3</td>\n",
       "      <td>male</td>\n",
       "      <td>74.00</td>\n",
       "      <td>0</td>\n",
       "      <td>0</td>\n",
       "      <td>7.7750</td>\n",
       "      <td>S</td>\n",
       "      <td>0</td>\n",
       "      <td>-1.0</td>\n",
       "    </tr>\n",
       "    <tr>\n",
       "      <th>426</th>\n",
       "      <td>2</td>\n",
       "      <td>male</td>\n",
       "      <td>0.67</td>\n",
       "      <td>1</td>\n",
       "      <td>1</td>\n",
       "      <td>14.5000</td>\n",
       "      <td>S</td>\n",
       "      <td>1</td>\n",
       "      <td>-1.0</td>\n",
       "    </tr>\n",
       "    <tr>\n",
       "      <th>454</th>\n",
       "      <td>1</td>\n",
       "      <td>male</td>\n",
       "      <td>64.00</td>\n",
       "      <td>1</td>\n",
       "      <td>4</td>\n",
       "      <td>263.0000</td>\n",
       "      <td>S</td>\n",
       "      <td>0</td>\n",
       "      <td>-1.0</td>\n",
       "    </tr>\n",
       "    <tr>\n",
       "      <th>472</th>\n",
       "      <td>3</td>\n",
       "      <td>female</td>\n",
       "      <td>0.75</td>\n",
       "      <td>2</td>\n",
       "      <td>1</td>\n",
       "      <td>19.2583</td>\n",
       "      <td>C</td>\n",
       "      <td>1</td>\n",
       "      <td>-1.0</td>\n",
       "    </tr>\n",
       "    <tr>\n",
       "      <th>486</th>\n",
       "      <td>1</td>\n",
       "      <td>male</td>\n",
       "      <td>61.00</td>\n",
       "      <td>0</td>\n",
       "      <td>0</td>\n",
       "      <td>33.5000</td>\n",
       "      <td>S</td>\n",
       "      <td>0</td>\n",
       "      <td>-1.0</td>\n",
       "    </tr>\n",
       "  </tbody>\n",
       "</table>\n",
       "</div>"
      ],
      "text/plain": [
       "     pclass     sex    age  sibsp  parch      fare embarked  survived  age_iso\n",
       "32        1    male  70.00      1      1   71.0000        S         0     -1.0\n",
       "75        2    male  62.00      0      0   10.5000        S         1     -1.0\n",
       "76        3    male  12.00      1      0   11.2417        C         1     -1.0\n",
       "99        3    male  70.50      0      0    7.7500        Q         0     -1.0\n",
       "171       3    male   6.00      0      1   12.4750        S         1     -1.0\n",
       "208       3    male   7.00      4      1   29.1250        Q         0     -1.0\n",
       "223       2  female   5.00      1      2   27.7500        S         1     -1.0\n",
       "263       3  female   0.75      2      1   19.2583        C         1     -1.0\n",
       "275       2    male  70.00      0      0   10.5000        S         0     -1.0\n",
       "277       3    male  11.00      0      0   18.7875        C         0     -1.0\n",
       "280       3    male   7.00      4      1   39.6875        S         0     -1.0\n",
       "286       3  female   5.00      4      2   31.3875        S         1     -1.0\n",
       "296       1    male  62.00      0      0   26.5500        S         0     -1.0\n",
       "343       2    male   0.83      1      1   18.7500        S         1     -1.0\n",
       "358       1    male  80.00      0      0   30.0000        S         1     -1.0\n",
       "403       3    male  74.00      0      0    7.7750        S         0     -1.0\n",
       "426       2    male   0.67      1      1   14.5000        S         1     -1.0\n",
       "454       1    male  64.00      1      4  263.0000        S         0     -1.0\n",
       "472       3  female   0.75      2      1   19.2583        C         1     -1.0\n",
       "486       1    male  61.00      0      0   33.5000        S         0     -1.0"
      ]
     },
     "execution_count": 66,
     "metadata": {},
     "output_type": "execute_result"
    }
   ],
   "source": [
    "from sklearn.ensemble import IsolationForest\n",
    "  \n",
    "iso = IsolationForest(contamination=0.05, random_state=42)\n",
    "  \n",
    "( \n",
    "  df\n",
    "  .assign(\n",
    "    age_iso = lambda d: pd.Series(\n",
    "        iso.fit_predict(d[['age']].dropna()), \n",
    "        index=d['age'].dropna().index   # align back with df\n",
    "    )\n",
    "  )\n",
    "  .query(\"age_iso==-1\")\n",
    "  \n",
    ") \n"
   ]
  },
  {
   "cell_type": "markdown",
   "id": "650d83de",
   "metadata": {},
   "source": [
    "iqr analysis of `age` colm"
   ]
  },
  {
   "cell_type": "code",
   "execution_count": 67,
   "id": "e8be828a",
   "metadata": {},
   "outputs": [
    {
     "name": "stdout",
     "output_type": "stream",
     "text": [
      "95th percentile: 54.94999999999999\n",
      "Q1: 20.0 Q3: 38.0 IQR: 18.0\n",
      "Lower bound: -7.0 Upper bound: 65.0\n"
     ]
    }
   ],
   "source": [
    "# 95th percentile\n",
    "p95 = df['age'].quantile(0.95)\n",
    "\n",
    "# Quartiles\n",
    "q1 = df['age'].quantile(0.25)\n",
    "q3 = df['age'].quantile(0.75)\n",
    "\n",
    "# IQR\n",
    "iqr = q3 - q1\n",
    "\n",
    "# Outlier thresholds\n",
    "lower_bound = q1 - 1.5 * iqr\n",
    "upper_bound = q3 + 1.5 * iqr\n",
    "\n",
    "print(\"95th percentile:\", p95)\n",
    "print(\"Q1:\", q1, \"Q3:\", q3, \"IQR:\", iqr)\n",
    "print(\"Lower bound:\", lower_bound, \"Upper bound:\", upper_bound)\n"
   ]
  },
  {
   "cell_type": "markdown",
   "id": "71be138c",
   "metadata": {},
   "source": [
    "for outlier analysis we can do the follwing : \n",
    "- cap \n",
    "- flag \n",
    "- transform \n",
    "- make NaN and impute with KNN "
   ]
  },
  {
   "cell_type": "markdown",
   "id": "0ea07a46",
   "metadata": {},
   "source": [
    "`age` colm outlier analysis using \n",
    "- ISO ->\n",
    "- flagging ->\n",
    "- imputing using KNN"
   ]
  },
  {
   "cell_type": "code",
   "execution_count": 68,
   "id": "e697a26e",
   "metadata": {},
   "outputs": [
    {
     "data": {
      "text/plain": [
       "(20, 9)"
      ]
     },
     "execution_count": 68,
     "metadata": {},
     "output_type": "execute_result"
    }
   ],
   "source": [
    "from sklearn.ensemble import IsolationForest\n",
    "iso = IsolationForest(contamination=0.05, random_state=42)  \n",
    "( \n",
    "  df\n",
    "  .assign(\n",
    "    age_iso = lambda d: pd.Series(\n",
    "        iso.fit_predict(d[['age']].dropna()), \n",
    "        index=d['age'].dropna().index   # align back with df\n",
    "    )\n",
    "  )\n",
    "  .query(\"age_iso==-1\")\n",
    "  .shape\n",
    ") \n"
   ]
  },
  {
   "cell_type": "markdown",
   "id": "21703b13",
   "metadata": {},
   "source": [
    "using iso i get outliers -> make a flag colm -> knn imputer \n",
    "note for knn: encode  `sex` using ohe "
   ]
  },
  {
   "cell_type": "code",
   "execution_count": 80,
   "id": "64ff657a",
   "metadata": {},
   "outputs": [
    {
     "data": {
      "text/plain": [
       "age_iso\n",
       " 1.0    382\n",
       "-1.0     20\n",
       "Name: count, dtype: int64"
      ]
     },
     "execution_count": 80,
     "metadata": {},
     "output_type": "execute_result"
    }
   ],
   "source": [
    "(\n",
    "  df\n",
    "  .pipe(lambda d: pd.get_dummies(d, columns=['sex'],drop_first=True,  dtype=int))\n",
    "  .assign(\n",
    "    age_iso = lambda d: pd.Series(\n",
    "        iso.fit_predict(d[['age']].dropna()), \n",
    "        index=d['age'].dropna().index   # align back with df\n",
    "    )\n",
    "  )\n",
    "  .age_iso\n",
    "  .value_counts()\n",
    ")"
   ]
  },
  {
   "cell_type": "markdown",
   "id": "cb40f08c",
   "metadata": {},
   "source": [
    "working on above "
   ]
  },
  {
   "cell_type": "code",
   "execution_count": 85,
   "id": "158d9690",
   "metadata": {},
   "outputs": [],
   "source": [
    "knn_imputer = KNNImputer(n_neighbors=5)"
   ]
  },
  {
   "cell_type": "code",
   "execution_count": 88,
   "id": "532a9f2c",
   "metadata": {},
   "outputs": [
    {
     "data": {
      "text/html": [
       "<div>\n",
       "<style scoped>\n",
       "    .dataframe tbody tr th:only-of-type {\n",
       "        vertical-align: middle;\n",
       "    }\n",
       "\n",
       "    .dataframe tbody tr th {\n",
       "        vertical-align: top;\n",
       "    }\n",
       "\n",
       "    .dataframe thead th {\n",
       "        text-align: right;\n",
       "    }\n",
       "</style>\n",
       "<table border=\"1\" class=\"dataframe\">\n",
       "  <thead>\n",
       "    <tr style=\"text-align: right;\">\n",
       "      <th></th>\n",
       "      <th>pclass</th>\n",
       "      <th>age</th>\n",
       "      <th>sibsp</th>\n",
       "      <th>parch</th>\n",
       "      <th>fare</th>\n",
       "    </tr>\n",
       "  </thead>\n",
       "  <tbody>\n",
       "    <tr>\n",
       "      <th>0</th>\n",
       "      <td>1</td>\n",
       "      <td>24.0</td>\n",
       "      <td>0</td>\n",
       "      <td>0</td>\n",
       "      <td>69.3000</td>\n",
       "    </tr>\n",
       "    <tr>\n",
       "      <th>1</th>\n",
       "      <td>3</td>\n",
       "      <td>3.0</td>\n",
       "      <td>3</td>\n",
       "      <td>1</td>\n",
       "      <td>21.0750</td>\n",
       "    </tr>\n",
       "    <tr>\n",
       "      <th>2</th>\n",
       "      <td>3</td>\n",
       "      <td>16.0</td>\n",
       "      <td>0</td>\n",
       "      <td>0</td>\n",
       "      <td>7.7333</td>\n",
       "    </tr>\n",
       "    <tr>\n",
       "      <th>3</th>\n",
       "      <td>3</td>\n",
       "      <td>32.0</td>\n",
       "      <td>0</td>\n",
       "      <td>0</td>\n",
       "      <td>56.4958</td>\n",
       "    </tr>\n",
       "    <tr>\n",
       "      <th>4</th>\n",
       "      <td>3</td>\n",
       "      <td>22.0</td>\n",
       "      <td>0</td>\n",
       "      <td>0</td>\n",
       "      <td>7.1250</td>\n",
       "    </tr>\n",
       "    <tr>\n",
       "      <th>...</th>\n",
       "      <td>...</td>\n",
       "      <td>...</td>\n",
       "      <td>...</td>\n",
       "      <td>...</td>\n",
       "      <td>...</td>\n",
       "    </tr>\n",
       "    <tr>\n",
       "      <th>493</th>\n",
       "      <td>2</td>\n",
       "      <td>52.0</td>\n",
       "      <td>0</td>\n",
       "      <td>0</td>\n",
       "      <td>13.5000</td>\n",
       "    </tr>\n",
       "    <tr>\n",
       "      <th>494</th>\n",
       "      <td>3</td>\n",
       "      <td>33.0</td>\n",
       "      <td>1</td>\n",
       "      <td>1</td>\n",
       "      <td>20.5250</td>\n",
       "    </tr>\n",
       "    <tr>\n",
       "      <th>495</th>\n",
       "      <td>2</td>\n",
       "      <td>NaN</td>\n",
       "      <td>0</td>\n",
       "      <td>0</td>\n",
       "      <td>13.0000</td>\n",
       "    </tr>\n",
       "    <tr>\n",
       "      <th>496</th>\n",
       "      <td>3</td>\n",
       "      <td>NaN</td>\n",
       "      <td>8</td>\n",
       "      <td>2</td>\n",
       "      <td>69.5500</td>\n",
       "    </tr>\n",
       "    <tr>\n",
       "      <th>497</th>\n",
       "      <td>1</td>\n",
       "      <td>56.0</td>\n",
       "      <td>0</td>\n",
       "      <td>1</td>\n",
       "      <td>83.1583</td>\n",
       "    </tr>\n",
       "  </tbody>\n",
       "</table>\n",
       "<p>498 rows × 5 columns</p>\n",
       "</div>"
      ],
      "text/plain": [
       "     pclass   age  sibsp  parch     fare\n",
       "0         1  24.0      0      0  69.3000\n",
       "1         3   3.0      3      1  21.0750\n",
       "2         3  16.0      0      0   7.7333\n",
       "3         3  32.0      0      0  56.4958\n",
       "4         3  22.0      0      0   7.1250\n",
       "..      ...   ...    ...    ...      ...\n",
       "493       2  52.0      0      0  13.5000\n",
       "494       3  33.0      1      1  20.5250\n",
       "495       2   NaN      0      0  13.0000\n",
       "496       3   NaN      8      2  69.5500\n",
       "497       1  56.0      0      1  83.1583\n",
       "\n",
       "[498 rows x 5 columns]"
      ]
     },
     "execution_count": 88,
     "metadata": {},
     "output_type": "execute_result"
    }
   ],
   "source": [
    "df[df.drop(columns='survived').select_dtypes(include='number').columns]"
   ]
  },
  {
   "cell_type": "code",
   "execution_count": 92,
   "id": "b2d9c5a8",
   "metadata": {},
   "outputs": [
    {
     "data": {
      "text/html": [
       "<div>\n",
       "<style scoped>\n",
       "    .dataframe tbody tr th:only-of-type {\n",
       "        vertical-align: middle;\n",
       "    }\n",
       "\n",
       "    .dataframe tbody tr th {\n",
       "        vertical-align: top;\n",
       "    }\n",
       "\n",
       "    .dataframe thead th {\n",
       "        text-align: right;\n",
       "    }\n",
       "</style>\n",
       "<table border=\"1\" class=\"dataframe\">\n",
       "  <thead>\n",
       "    <tr style=\"text-align: right;\">\n",
       "      <th></th>\n",
       "      <th>pclass</th>\n",
       "      <th>age</th>\n",
       "      <th>sibsp</th>\n",
       "      <th>parch</th>\n",
       "      <th>fare</th>\n",
       "      <th>embarked</th>\n",
       "      <th>survived</th>\n",
       "      <th>sex_male</th>\n",
       "      <th>age_outlier</th>\n",
       "    </tr>\n",
       "  </thead>\n",
       "  <tbody>\n",
       "    <tr>\n",
       "      <th>0</th>\n",
       "      <td>1</td>\n",
       "      <td>24.0</td>\n",
       "      <td>0</td>\n",
       "      <td>0</td>\n",
       "      <td>69.3000</td>\n",
       "      <td>C</td>\n",
       "      <td>1</td>\n",
       "      <td>0</td>\n",
       "      <td>0</td>\n",
       "    </tr>\n",
       "    <tr>\n",
       "      <th>1</th>\n",
       "      <td>3</td>\n",
       "      <td>3.0</td>\n",
       "      <td>3</td>\n",
       "      <td>1</td>\n",
       "      <td>21.0750</td>\n",
       "      <td>S</td>\n",
       "      <td>0</td>\n",
       "      <td>0</td>\n",
       "      <td>0</td>\n",
       "    </tr>\n",
       "    <tr>\n",
       "      <th>2</th>\n",
       "      <td>3</td>\n",
       "      <td>16.0</td>\n",
       "      <td>0</td>\n",
       "      <td>0</td>\n",
       "      <td>7.7333</td>\n",
       "      <td>Q</td>\n",
       "      <td>1</td>\n",
       "      <td>0</td>\n",
       "      <td>0</td>\n",
       "    </tr>\n",
       "    <tr>\n",
       "      <th>3</th>\n",
       "      <td>3</td>\n",
       "      <td>32.0</td>\n",
       "      <td>0</td>\n",
       "      <td>0</td>\n",
       "      <td>56.4958</td>\n",
       "      <td>S</td>\n",
       "      <td>1</td>\n",
       "      <td>1</td>\n",
       "      <td>0</td>\n",
       "    </tr>\n",
       "    <tr>\n",
       "      <th>4</th>\n",
       "      <td>3</td>\n",
       "      <td>22.0</td>\n",
       "      <td>0</td>\n",
       "      <td>0</td>\n",
       "      <td>7.1250</td>\n",
       "      <td>S</td>\n",
       "      <td>0</td>\n",
       "      <td>1</td>\n",
       "      <td>0</td>\n",
       "    </tr>\n",
       "    <tr>\n",
       "      <th>...</th>\n",
       "      <td>...</td>\n",
       "      <td>...</td>\n",
       "      <td>...</td>\n",
       "      <td>...</td>\n",
       "      <td>...</td>\n",
       "      <td>...</td>\n",
       "      <td>...</td>\n",
       "      <td>...</td>\n",
       "      <td>...</td>\n",
       "    </tr>\n",
       "    <tr>\n",
       "      <th>493</th>\n",
       "      <td>2</td>\n",
       "      <td>52.0</td>\n",
       "      <td>0</td>\n",
       "      <td>0</td>\n",
       "      <td>13.5000</td>\n",
       "      <td>S</td>\n",
       "      <td>0</td>\n",
       "      <td>1</td>\n",
       "      <td>0</td>\n",
       "    </tr>\n",
       "    <tr>\n",
       "      <th>494</th>\n",
       "      <td>3</td>\n",
       "      <td>33.0</td>\n",
       "      <td>1</td>\n",
       "      <td>1</td>\n",
       "      <td>20.5250</td>\n",
       "      <td>S</td>\n",
       "      <td>0</td>\n",
       "      <td>1</td>\n",
       "      <td>0</td>\n",
       "    </tr>\n",
       "    <tr>\n",
       "      <th>495</th>\n",
       "      <td>2</td>\n",
       "      <td>26.6</td>\n",
       "      <td>0</td>\n",
       "      <td>0</td>\n",
       "      <td>13.0000</td>\n",
       "      <td>S</td>\n",
       "      <td>1</td>\n",
       "      <td>1</td>\n",
       "      <td>0</td>\n",
       "    </tr>\n",
       "    <tr>\n",
       "      <th>496</th>\n",
       "      <td>3</td>\n",
       "      <td>37.2</td>\n",
       "      <td>8</td>\n",
       "      <td>2</td>\n",
       "      <td>69.5500</td>\n",
       "      <td>S</td>\n",
       "      <td>0</td>\n",
       "      <td>1</td>\n",
       "      <td>0</td>\n",
       "    </tr>\n",
       "    <tr>\n",
       "      <th>497</th>\n",
       "      <td>1</td>\n",
       "      <td>56.0</td>\n",
       "      <td>0</td>\n",
       "      <td>1</td>\n",
       "      <td>83.1583</td>\n",
       "      <td>C</td>\n",
       "      <td>1</td>\n",
       "      <td>0</td>\n",
       "      <td>0</td>\n",
       "    </tr>\n",
       "  </tbody>\n",
       "</table>\n",
       "<p>498 rows × 9 columns</p>\n",
       "</div>"
      ],
      "text/plain": [
       "     pclass   age  sibsp  parch     fare embarked  survived  sex_male  \\\n",
       "0         1  24.0      0      0  69.3000        C         1         0   \n",
       "1         3   3.0      3      1  21.0750        S         0         0   \n",
       "2         3  16.0      0      0   7.7333        Q         1         0   \n",
       "3         3  32.0      0      0  56.4958        S         1         1   \n",
       "4         3  22.0      0      0   7.1250        S         0         1   \n",
       "..      ...   ...    ...    ...      ...      ...       ...       ...   \n",
       "493       2  52.0      0      0  13.5000        S         0         1   \n",
       "494       3  33.0      1      1  20.5250        S         0         1   \n",
       "495       2  26.6      0      0  13.0000        S         1         1   \n",
       "496       3  37.2      8      2  69.5500        S         0         1   \n",
       "497       1  56.0      0      1  83.1583        C         1         0   \n",
       "\n",
       "     age_outlier  \n",
       "0              0  \n",
       "1              0  \n",
       "2              0  \n",
       "3              0  \n",
       "4              0  \n",
       "..           ...  \n",
       "493            0  \n",
       "494            0  \n",
       "495            0  \n",
       "496            0  \n",
       "497            0  \n",
       "\n",
       "[498 rows x 9 columns]"
      ]
     },
     "execution_count": 92,
     "metadata": {},
     "output_type": "execute_result"
    }
   ],
   "source": [
    "(\n",
    "  df\n",
    "  .pipe(lambda d: pd.get_dummies(d, columns=['sex'], drop_first=True, dtype=int))\n",
    "  .assign(\n",
    "    age_iso = lambda d: pd.Series(\n",
    "        iso.fit_predict(d[['age']].dropna()),\n",
    "        index=d['age'].dropna().index\n",
    "    ),\n",
    "    age_outlier = lambda d: (d.age_iso == -1).astype(int)\n",
    "  )\n",
    "  .drop(columns=['age_iso'])\n",
    "  .pipe(\n",
    "    lambda d: d.assign(\n",
    "        age = pd.Series(\n",
    "            knn_imputer.fit_transform(\n",
    "                d.drop(columns='survived').select_dtypes(include='number')\n",
    "            )[:, d.drop(columns='survived').columns.get_loc('age')],\n",
    "            index=d.index\n",
    "        )\n",
    "    )\n",
    "  )\n",
    ")\n"
   ]
  },
  {
   "cell_type": "code",
   "execution_count": null,
   "id": "de250042",
   "metadata": {},
   "outputs": [
    {
     "ename": "AttributeError",
     "evalue": "'Series' object has no attribute 'imputer'",
     "output_type": "error",
     "traceback": [
      "\u001b[31m---------------------------------------------------------------------------\u001b[39m",
      "\u001b[31mAttributeError\u001b[39m                            Traceback (most recent call last)",
      "\u001b[32m~\\AppData\\Local\\Temp\\ipykernel_19776\\2408959390.py\u001b[39m in \u001b[36m?\u001b[39m\u001b[34m()\u001b[39m\n\u001b[32m     13\u001b[39m     )\n\u001b[32m     14\u001b[39m   )\n\u001b[32m     15\u001b[39m   .drop(columns=\u001b[33m'age_iso'\u001b[39m)\n\u001b[32m     16\u001b[39m   .age\n\u001b[32m---> \u001b[39m\u001b[32m17\u001b[39m   .imputer\n\u001b[32m     18\u001b[39m   .fit_transform(df[[\u001b[33m'age'\u001b[39m, \u001b[33m'age_outlier'\u001b[39m, \u001b[33m'pclass'\u001b[39m, \u001b[33m'sex'\u001b[39m]])\n\u001b[32m     19\u001b[39m )\n",
      "\u001b[32mc:\\Users\\Abhinay\\Desktop\\mlflow_titanic_dataset\\.venv\\Lib\\site-packages\\pandas\\core\\generic.py\u001b[39m in \u001b[36m?\u001b[39m\u001b[34m(self, name)\u001b[39m\n\u001b[32m   6314\u001b[39m             \u001b[38;5;28;01mand\u001b[39;00m name \u001b[38;5;28;01mnot\u001b[39;00m \u001b[38;5;28;01min\u001b[39;00m self._accessors\n\u001b[32m   6315\u001b[39m             \u001b[38;5;28;01mand\u001b[39;00m self._info_axis._can_hold_identifiers_and_holds_name(name)\n\u001b[32m   6316\u001b[39m         ):\n\u001b[32m   6317\u001b[39m             \u001b[38;5;28;01mreturn\u001b[39;00m self[name]\n\u001b[32m-> \u001b[39m\u001b[32m6318\u001b[39m         \u001b[38;5;28;01mreturn\u001b[39;00m object.__getattribute__(self, name)\n",
      "\u001b[31mAttributeError\u001b[39m: 'Series' object has no attribute 'imputer'"
     ]
    }
   ],
   "source": [
    "from sklearn.ensemble import IsolationForest\n",
    "from sklearn.impute import KNNImputer\n",
    "iso = IsolationForest(contamination=0.05, random_state=42)\n",
    "imputer = KNNImputer(n_neighbors=5)\n",
    "( \n",
    "  df\n",
    "  .assign(\n",
    "    age_iso = iso.fit_predict(\n",
    "      df[['age']]\n",
    "    ),\n",
    "    age_outlier = lambda d: (\n",
    "      (d.age_iso==-1).astype(int)\n",
    "    ),\n",
    "    sex = df.sex.map\n",
    "  )\n",
    "  .drop(columns='age_iso')  \n",
    "  .fit_transform(df[['age', 'age_outlier', 'pclass',]])\n",
    ") \n"
   ]
  },
  {
   "cell_type": "code",
   "execution_count": null,
   "id": "f6d4a644",
   "metadata": {},
   "outputs": [],
   "source": []
  },
  {
   "cell_type": "code",
   "execution_count": null,
   "id": "463e88ea",
   "metadata": {},
   "outputs": [],
   "source": [
    "num_cols = ['pclass', 'age', 'sibsp', 'parch']"
   ]
  },
  {
   "cell_type": "markdown",
   "id": "6585a404",
   "metadata": {},
   "source": [
    "7.4 `sibsp` & `parch`"
   ]
  },
  {
   "cell_type": "code",
   "execution_count": null,
   "id": "cc60e371",
   "metadata": {},
   "outputs": [
    {
     "data": {
      "image/png": "[encoded data removed]",
      "text/plain": [
       "<Figure size 1200x600 with 2 Axes>"
      ]
     },
     "metadata": {},
     "output_type": "display_data"
    }
   ],
   "source": [
    "eda_helper_functions.correlation_heatmap(df)"
   ]
  },
  {
   "cell_type": "code",
   "execution_count": null,
   "id": "467522d4",
   "metadata": {},
   "outputs": [
    {
     "data": {
      "text/html": [
       "<div>\n",
       "<style scoped>\n",
       "    .dataframe tbody tr th:only-of-type {\n",
       "        vertical-align: middle;\n",
       "    }\n",
       "\n",
       "    .dataframe tbody tr th {\n",
       "        vertical-align: top;\n",
       "    }\n",
       "\n",
       "    .dataframe thead th {\n",
       "        text-align: right;\n",
       "    }\n",
       "</style>\n",
       "<table border=\"1\" class=\"dataframe\">\n",
       "  <thead>\n",
       "    <tr style=\"text-align: right;\">\n",
       "      <th></th>\n",
       "      <th>pclass</th>\n",
       "      <th>sex</th>\n",
       "      <th>age</th>\n",
       "      <th>fare</th>\n",
       "      <th>embarked</th>\n",
       "      <th>survived</th>\n",
       "      <th>family_size</th>\n",
       "    </tr>\n",
       "  </thead>\n",
       "  <tbody>\n",
       "    <tr>\n",
       "      <th>0</th>\n",
       "      <td>1</td>\n",
       "      <td>female</td>\n",
       "      <td>24.0</td>\n",
       "      <td>69.3000</td>\n",
       "      <td>C</td>\n",
       "      <td>1</td>\n",
       "      <td>1</td>\n",
       "    </tr>\n",
       "    <tr>\n",
       "      <th>1</th>\n",
       "      <td>3</td>\n",
       "      <td>female</td>\n",
       "      <td>3.0</td>\n",
       "      <td>21.0750</td>\n",
       "      <td>S</td>\n",
       "      <td>0</td>\n",
       "      <td>5</td>\n",
       "    </tr>\n",
       "    <tr>\n",
       "      <th>2</th>\n",
       "      <td>3</td>\n",
       "      <td>female</td>\n",
       "      <td>16.0</td>\n",
       "      <td>7.7333</td>\n",
       "      <td>Q</td>\n",
       "      <td>1</td>\n",
       "      <td>1</td>\n",
       "    </tr>\n",
       "    <tr>\n",
       "      <th>3</th>\n",
       "      <td>3</td>\n",
       "      <td>male</td>\n",
       "      <td>32.0</td>\n",
       "      <td>56.4958</td>\n",
       "      <td>S</td>\n",
       "      <td>1</td>\n",
       "      <td>1</td>\n",
       "    </tr>\n",
       "    <tr>\n",
       "      <th>4</th>\n",
       "      <td>3</td>\n",
       "      <td>male</td>\n",
       "      <td>22.0</td>\n",
       "      <td>7.1250</td>\n",
       "      <td>S</td>\n",
       "      <td>0</td>\n",
       "      <td>1</td>\n",
       "    </tr>\n",
       "    <tr>\n",
       "      <th>...</th>\n",
       "      <td>...</td>\n",
       "      <td>...</td>\n",
       "      <td>...</td>\n",
       "      <td>...</td>\n",
       "      <td>...</td>\n",
       "      <td>...</td>\n",
       "      <td>...</td>\n",
       "    </tr>\n",
       "    <tr>\n",
       "      <th>493</th>\n",
       "      <td>2</td>\n",
       "      <td>male</td>\n",
       "      <td>52.0</td>\n",
       "      <td>13.5000</td>\n",
       "      <td>S</td>\n",
       "      <td>0</td>\n",
       "      <td>1</td>\n",
       "    </tr>\n",
       "    <tr>\n",
       "      <th>494</th>\n",
       "      <td>3</td>\n",
       "      <td>male</td>\n",
       "      <td>33.0</td>\n",
       "      <td>20.5250</td>\n",
       "      <td>S</td>\n",
       "      <td>0</td>\n",
       "      <td>3</td>\n",
       "    </tr>\n",
       "    <tr>\n",
       "      <th>495</th>\n",
       "      <td>2</td>\n",
       "      <td>male</td>\n",
       "      <td>NaN</td>\n",
       "      <td>13.0000</td>\n",
       "      <td>S</td>\n",
       "      <td>1</td>\n",
       "      <td>1</td>\n",
       "    </tr>\n",
       "    <tr>\n",
       "      <th>496</th>\n",
       "      <td>3</td>\n",
       "      <td>male</td>\n",
       "      <td>NaN</td>\n",
       "      <td>69.5500</td>\n",
       "      <td>S</td>\n",
       "      <td>0</td>\n",
       "      <td>11</td>\n",
       "    </tr>\n",
       "    <tr>\n",
       "      <th>497</th>\n",
       "      <td>1</td>\n",
       "      <td>female</td>\n",
       "      <td>56.0</td>\n",
       "      <td>83.1583</td>\n",
       "      <td>C</td>\n",
       "      <td>1</td>\n",
       "      <td>2</td>\n",
       "    </tr>\n",
       "  </tbody>\n",
       "</table>\n",
       "<p>498 rows × 7 columns</p>\n",
       "</div>"
      ],
      "text/plain": [
       "     pclass     sex   age     fare embarked  survived  family_size\n",
       "0         1  female  24.0  69.3000        C         1            1\n",
       "1         3  female   3.0  21.0750        S         0            5\n",
       "2         3  female  16.0   7.7333        Q         1            1\n",
       "3         3    male  32.0  56.4958        S         1            1\n",
       "4         3    male  22.0   7.1250        S         0            1\n",
       "..      ...     ...   ...      ...      ...       ...          ...\n",
       "493       2    male  52.0  13.5000        S         0            1\n",
       "494       3    male  33.0  20.5250        S         0            3\n",
       "495       2    male   NaN  13.0000        S         1            1\n",
       "496       3    male   NaN  69.5500        S         0           11\n",
       "497       1  female  56.0  83.1583        C         1            2\n",
       "\n",
       "[498 rows x 7 columns]"
      ]
     },
     "execution_count": 58,
     "metadata": {},
     "output_type": "execute_result"
    }
   ],
   "source": [
    "(\n",
    "  df\n",
    "  .assign(\n",
    "    family_size = lambda d: d.parch + d.sibsp + 1\n",
    "  )\n",
    "  .drop(columns=['parch', 'sibsp'])\n",
    ")"
   ]
  },
  {
   "cell_type": "markdown",
   "id": "5c84ad9a",
   "metadata": {},
   "source": [
    "Observations\n",
    " 1. `sex` and `embarked` are both imbalanced colms, handle imbalance\n",
    " 2. `age` and `embarked` have missing values\n",
    " 3.  for colms `age`, `sibsp`, `parch` nd `fare` it makes sense to check \n",
    "outliers      "
   ]
  }
 ],
 "metadata": {
  "kernelspec": {
   "display_name": ".venv",
   "language": "python",
   "name": "python3"
  },
  "language_info": {
   "codemirror_mode": {
    "name": "ipython",
    "version": 3
   },
   "file_extension": ".py",
   "mimetype": "text/x-python",
   "name": "python",
   "nbconvert_exporter": "python",
   "pygments_lexer": "ipython3",
   "version": "3.13.0"
  }
 },
 "nbformat": 4,
 "nbformat_minor": 5
}
