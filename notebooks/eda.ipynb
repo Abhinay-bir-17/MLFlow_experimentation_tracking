{
 "cells": [
  {
   "cell_type": "markdown",
   "id": "3d3379a7",
   "metadata": {},
   "source": [
    "### 1. Importing Libraries\n"
   ]
  },
  {
   "cell_type": "code",
   "execution_count": 10,
   "id": "c4d75405",
   "metadata": {},
   "outputs": [],
   "source": [
    "import os\n",
    "import pandas as pd  \n",
    "import seaborn as sns\n",
    "import matplotlib.pyplot as plt\n",
    "import numpy as np\n",
    "\n",
    "import eda_helper_functions"
   ]
  },
  {
   "cell_type": "code",
   "execution_count": 3,
   "id": "e219db41",
   "metadata": {},
   "outputs": [
    {
     "data": {
      "text/plain": [
       "(498, 8)"
      ]
     },
     "execution_count": 3,
     "metadata": {},
     "output_type": "execute_result"
    }
   ],
   "source": [
    "### 2. Reading train data\n",
    "df = pd.read_csv('../data/train.csv')\n",
    "df.shape"
   ]
  },
  {
   "cell_type": "code",
   "execution_count": 4,
   "id": "33fe95eb",
   "metadata": {},
   "outputs": [
    {
     "data": {
      "text/html": [
       "<div>\n",
       "<style scoped>\n",
       "    .dataframe tbody tr th:only-of-type {\n",
       "        vertical-align: middle;\n",
       "    }\n",
       "\n",
       "    .dataframe tbody tr th {\n",
       "        vertical-align: top;\n",
       "    }\n",
       "\n",
       "    .dataframe thead th {\n",
       "        text-align: right;\n",
       "    }\n",
       "</style>\n",
       "<table border=\"1\" class=\"dataframe\">\n",
       "  <thead>\n",
       "    <tr style=\"text-align: right;\">\n",
       "      <th></th>\n",
       "      <th>pclass</th>\n",
       "      <th>sex</th>\n",
       "      <th>age</th>\n",
       "      <th>sibsp</th>\n",
       "      <th>parch</th>\n",
       "      <th>fare</th>\n",
       "      <th>embarked</th>\n",
       "      <th>survived</th>\n",
       "    </tr>\n",
       "  </thead>\n",
       "  <tbody>\n",
       "    <tr>\n",
       "      <th>0</th>\n",
       "      <td>1</td>\n",
       "      <td>female</td>\n",
       "      <td>24.0</td>\n",
       "      <td>0</td>\n",
       "      <td>0</td>\n",
       "      <td>69.3000</td>\n",
       "      <td>C</td>\n",
       "      <td>1</td>\n",
       "    </tr>\n",
       "    <tr>\n",
       "      <th>1</th>\n",
       "      <td>3</td>\n",
       "      <td>female</td>\n",
       "      <td>3.0</td>\n",
       "      <td>3</td>\n",
       "      <td>1</td>\n",
       "      <td>21.0750</td>\n",
       "      <td>S</td>\n",
       "      <td>0</td>\n",
       "    </tr>\n",
       "    <tr>\n",
       "      <th>2</th>\n",
       "      <td>3</td>\n",
       "      <td>female</td>\n",
       "      <td>16.0</td>\n",
       "      <td>0</td>\n",
       "      <td>0</td>\n",
       "      <td>7.7333</td>\n",
       "      <td>Q</td>\n",
       "      <td>1</td>\n",
       "    </tr>\n",
       "    <tr>\n",
       "      <th>3</th>\n",
       "      <td>3</td>\n",
       "      <td>male</td>\n",
       "      <td>32.0</td>\n",
       "      <td>0</td>\n",
       "      <td>0</td>\n",
       "      <td>56.4958</td>\n",
       "      <td>S</td>\n",
       "      <td>1</td>\n",
       "    </tr>\n",
       "    <tr>\n",
       "      <th>4</th>\n",
       "      <td>3</td>\n",
       "      <td>male</td>\n",
       "      <td>22.0</td>\n",
       "      <td>0</td>\n",
       "      <td>0</td>\n",
       "      <td>7.1250</td>\n",
       "      <td>S</td>\n",
       "      <td>0</td>\n",
       "    </tr>\n",
       "  </tbody>\n",
       "</table>\n",
       "</div>"
      ],
      "text/plain": [
       "   pclass     sex   age  sibsp  parch     fare embarked  survived\n",
       "0       1  female  24.0      0      0  69.3000        C         1\n",
       "1       3  female   3.0      3      1  21.0750        S         0\n",
       "2       3  female  16.0      0      0   7.7333        Q         1\n",
       "3       3    male  32.0      0      0  56.4958        S         1\n",
       "4       3    male  22.0      0      0   7.1250        S         0"
      ]
     },
     "execution_count": 4,
     "metadata": {},
     "output_type": "execute_result"
    }
   ],
   "source": [
    "df.head()"
   ]
  },
  {
   "cell_type": "markdown",
   "id": "de52d80e",
   "metadata": {},
   "source": [
    "### 2. High Level Summary of Data"
   ]
  },
  {
   "cell_type": "code",
   "execution_count": 5,
   "id": "efa013fb",
   "metadata": {},
   "outputs": [
    {
     "name": "stdout",
     "output_type": "stream",
     "text": [
      "<class 'pandas.core.frame.DataFrame'>\n",
      "RangeIndex: 498 entries, 0 to 497\n",
      "Data columns (total 8 columns):\n",
      " #   Column    Non-Null Count  Dtype  \n",
      "---  ------    --------------  -----  \n",
      " 0   pclass    498 non-null    int64  \n",
      " 1   sex       498 non-null    object \n",
      " 2   age       402 non-null    float64\n",
      " 3   sibsp     498 non-null    int64  \n",
      " 4   parch     498 non-null    int64  \n",
      " 5   fare      498 non-null    float64\n",
      " 6   embarked  497 non-null    object \n",
      " 7   survived  498 non-null    int64  \n",
      "dtypes: float64(2), int64(4), object(2)\n",
      "memory usage: 31.3+ KB\n"
     ]
    }
   ],
   "source": [
    "df.info()"
   ]
  },
  {
   "cell_type": "code",
   "execution_count": 6,
   "id": "f3d1a2e2",
   "metadata": {},
   "outputs": [
    {
     "data": {
      "text/html": [
       "<div>\n",
       "<style scoped>\n",
       "    .dataframe tbody tr th:only-of-type {\n",
       "        vertical-align: middle;\n",
       "    }\n",
       "\n",
       "    .dataframe tbody tr th {\n",
       "        vertical-align: top;\n",
       "    }\n",
       "\n",
       "    .dataframe thead th {\n",
       "        text-align: right;\n",
       "    }\n",
       "</style>\n",
       "<table border=\"1\" class=\"dataframe\">\n",
       "  <thead>\n",
       "    <tr style=\"text-align: right;\">\n",
       "      <th></th>\n",
       "      <th>pclass</th>\n",
       "      <th>age</th>\n",
       "      <th>sibsp</th>\n",
       "      <th>parch</th>\n",
       "      <th>fare</th>\n",
       "      <th>survived</th>\n",
       "    </tr>\n",
       "  </thead>\n",
       "  <tbody>\n",
       "    <tr>\n",
       "      <th>count</th>\n",
       "      <td>498.000000</td>\n",
       "      <td>402.000000</td>\n",
       "      <td>498.000000</td>\n",
       "      <td>498.000000</td>\n",
       "      <td>498.000000</td>\n",
       "      <td>498.000000</td>\n",
       "    </tr>\n",
       "    <tr>\n",
       "      <th>mean</th>\n",
       "      <td>2.339357</td>\n",
       "      <td>29.309701</td>\n",
       "      <td>0.578313</td>\n",
       "      <td>0.381526</td>\n",
       "      <td>30.335199</td>\n",
       "      <td>0.379518</td>\n",
       "    </tr>\n",
       "    <tr>\n",
       "      <th>std</th>\n",
       "      <td>0.816885</td>\n",
       "      <td>14.646028</td>\n",
       "      <td>1.229619</td>\n",
       "      <td>0.799283</td>\n",
       "      <td>44.541796</td>\n",
       "      <td>0.485755</td>\n",
       "    </tr>\n",
       "    <tr>\n",
       "      <th>min</th>\n",
       "      <td>1.000000</td>\n",
       "      <td>0.670000</td>\n",
       "      <td>0.000000</td>\n",
       "      <td>0.000000</td>\n",
       "      <td>0.000000</td>\n",
       "      <td>0.000000</td>\n",
       "    </tr>\n",
       "    <tr>\n",
       "      <th>25%</th>\n",
       "      <td>2.000000</td>\n",
       "      <td>20.000000</td>\n",
       "      <td>0.000000</td>\n",
       "      <td>0.000000</td>\n",
       "      <td>7.925000</td>\n",
       "      <td>0.000000</td>\n",
       "    </tr>\n",
       "    <tr>\n",
       "      <th>50%</th>\n",
       "      <td>3.000000</td>\n",
       "      <td>28.000000</td>\n",
       "      <td>0.000000</td>\n",
       "      <td>0.000000</td>\n",
       "      <td>14.254150</td>\n",
       "      <td>0.000000</td>\n",
       "    </tr>\n",
       "    <tr>\n",
       "      <th>75%</th>\n",
       "      <td>3.000000</td>\n",
       "      <td>38.000000</td>\n",
       "      <td>1.000000</td>\n",
       "      <td>0.000000</td>\n",
       "      <td>30.053100</td>\n",
       "      <td>1.000000</td>\n",
       "    </tr>\n",
       "    <tr>\n",
       "      <th>max</th>\n",
       "      <td>3.000000</td>\n",
       "      <td>80.000000</td>\n",
       "      <td>8.000000</td>\n",
       "      <td>5.000000</td>\n",
       "      <td>512.329200</td>\n",
       "      <td>1.000000</td>\n",
       "    </tr>\n",
       "  </tbody>\n",
       "</table>\n",
       "</div>"
      ],
      "text/plain": [
       "           pclass         age       sibsp       parch        fare    survived\n",
       "count  498.000000  402.000000  498.000000  498.000000  498.000000  498.000000\n",
       "mean     2.339357   29.309701    0.578313    0.381526   30.335199    0.379518\n",
       "std      0.816885   14.646028    1.229619    0.799283   44.541796    0.485755\n",
       "min      1.000000    0.670000    0.000000    0.000000    0.000000    0.000000\n",
       "25%      2.000000   20.000000    0.000000    0.000000    7.925000    0.000000\n",
       "50%      3.000000   28.000000    0.000000    0.000000   14.254150    0.000000\n",
       "75%      3.000000   38.000000    1.000000    0.000000   30.053100    1.000000\n",
       "max      3.000000   80.000000    8.000000    5.000000  512.329200    1.000000"
      ]
     },
     "execution_count": 6,
     "metadata": {},
     "output_type": "execute_result"
    }
   ],
   "source": [
    "df.describe()"
   ]
  },
  {
   "cell_type": "markdown",
   "id": "208d4e8f",
   "metadata": {},
   "source": [
    "none of the values r negative, so all look like valid values"
   ]
  },
  {
   "cell_type": "code",
   "execution_count": 8,
   "id": "00483d76",
   "metadata": {},
   "outputs": [
    {
     "data": {
      "text/html": [
       "<div>\n",
       "<style scoped>\n",
       "    .dataframe tbody tr th:only-of-type {\n",
       "        vertical-align: middle;\n",
       "    }\n",
       "\n",
       "    .dataframe tbody tr th {\n",
       "        vertical-align: top;\n",
       "    }\n",
       "\n",
       "    .dataframe thead th {\n",
       "        text-align: right;\n",
       "    }\n",
       "</style>\n",
       "<table border=\"1\" class=\"dataframe\">\n",
       "  <thead>\n",
       "    <tr style=\"text-align: right;\">\n",
       "      <th></th>\n",
       "      <th>sex</th>\n",
       "      <th>embarked</th>\n",
       "    </tr>\n",
       "  </thead>\n",
       "  <tbody>\n",
       "    <tr>\n",
       "      <th>count</th>\n",
       "      <td>498</td>\n",
       "      <td>497</td>\n",
       "    </tr>\n",
       "    <tr>\n",
       "      <th>unique</th>\n",
       "      <td>2</td>\n",
       "      <td>3</td>\n",
       "    </tr>\n",
       "    <tr>\n",
       "      <th>top</th>\n",
       "      <td>male</td>\n",
       "      <td>S</td>\n",
       "    </tr>\n",
       "    <tr>\n",
       "      <th>freq</th>\n",
       "      <td>333</td>\n",
       "      <td>373</td>\n",
       "    </tr>\n",
       "  </tbody>\n",
       "</table>\n",
       "</div>"
      ],
      "text/plain": [
       "         sex embarked\n",
       "count    498      497\n",
       "unique     2        3\n",
       "top     male        S\n",
       "freq     333      373"
      ]
     },
     "execution_count": 8,
     "metadata": {},
     "output_type": "execute_result"
    }
   ],
   "source": [
    "df.describe(include='O')"
   ]
  },
  {
   "cell_type": "markdown",
   "id": "a67f9cd8",
   "metadata": {},
   "source": [
    "`sex` and `embarked` are both imbalanced colms "
   ]
  },
  {
   "cell_type": "code",
   "execution_count": 9,
   "id": "abde7f25",
   "metadata": {},
   "outputs": [
    {
     "data": {
      "text/html": [
       "<div>\n",
       "<style scoped>\n",
       "    .dataframe tbody tr th:only-of-type {\n",
       "        vertical-align: middle;\n",
       "    }\n",
       "\n",
       "    .dataframe tbody tr th {\n",
       "        vertical-align: top;\n",
       "    }\n",
       "\n",
       "    .dataframe thead th {\n",
       "        text-align: right;\n",
       "    }\n",
       "</style>\n",
       "<table border=\"1\" class=\"dataframe\">\n",
       "  <thead>\n",
       "    <tr style=\"text-align: right;\">\n",
       "      <th></th>\n",
       "      <th>sex</th>\n",
       "      <th>embarked</th>\n",
       "      <th>survived</th>\n",
       "    </tr>\n",
       "  </thead>\n",
       "  <tbody>\n",
       "    <tr>\n",
       "      <th>count</th>\n",
       "      <td>498</td>\n",
       "      <td>497</td>\n",
       "      <td>498</td>\n",
       "    </tr>\n",
       "    <tr>\n",
       "      <th>unique</th>\n",
       "      <td>2</td>\n",
       "      <td>3</td>\n",
       "      <td>2</td>\n",
       "    </tr>\n",
       "    <tr>\n",
       "      <th>top</th>\n",
       "      <td>male</td>\n",
       "      <td>S</td>\n",
       "      <td>0</td>\n",
       "    </tr>\n",
       "    <tr>\n",
       "      <th>freq</th>\n",
       "      <td>333</td>\n",
       "      <td>373</td>\n",
       "      <td>309</td>\n",
       "    </tr>\n",
       "  </tbody>\n",
       "</table>\n",
       "</div>"
      ],
      "text/plain": [
       "         sex embarked  survived\n",
       "count    498      497       498\n",
       "unique     2        3         2\n",
       "top     male        S         0\n",
       "freq     333      373       309"
      ]
     },
     "execution_count": 9,
     "metadata": {},
     "output_type": "execute_result"
    }
   ],
   "source": [
    "(\n",
    " df\n",
    " .assign(survived=df.survived.astype(object))\n",
    " .describe(include='O') \n",
    ")"
   ]
  },
  {
   "cell_type": "markdown",
   "id": "5c84ad9a",
   "metadata": {},
   "source": [
    "Observations\n",
    " 1. dfadfa\n",
    " 2. `sex` and `embarked` are both imbalanced colms "
   ]
  },
  {
   "cell_type": "markdown",
   "id": "264c855b",
   "metadata": {},
   "source": [
    "### 3. High level analysis of missing values in our dataset"
   ]
  },
  {
   "cell_type": "code",
   "execution_count": 17,
   "id": "d079ff3c",
   "metadata": {},
   "outputs": [
    {
     "data": {
      "text/plain": [
       "pclass       0\n",
       "sex          0\n",
       "age         96\n",
       "sibsp        0\n",
       "parch        0\n",
       "fare         0\n",
       "embarked     1\n",
       "survived     0\n",
       "dtype: int64"
      ]
     },
     "execution_count": 17,
     "metadata": {},
     "output_type": "execute_result"
    }
   ],
   "source": [
    "df.isnull().sum()"
   ]
  },
  {
   "cell_type": "code",
   "execution_count": 11,
   "id": "5dfa29f7",
   "metadata": {},
   "outputs": [
    {
     "data": {
      "text/html": [
       "<div>\n",
       "<style scoped>\n",
       "    .dataframe tbody tr th:only-of-type {\n",
       "        vertical-align: middle;\n",
       "    }\n",
       "\n",
       "    .dataframe tbody tr th {\n",
       "        vertical-align: top;\n",
       "    }\n",
       "\n",
       "    .dataframe thead th {\n",
       "        text-align: right;\n",
       "    }\n",
       "</style>\n",
       "<table border=\"1\" class=\"dataframe\">\n",
       "  <thead>\n",
       "    <tr style=\"text-align: right;\">\n",
       "      <th></th>\n",
       "      <th>count</th>\n",
       "      <th>percentage</th>\n",
       "    </tr>\n",
       "    <tr>\n",
       "      <th>variable</th>\n",
       "      <th></th>\n",
       "      <th></th>\n",
       "    </tr>\n",
       "  </thead>\n",
       "  <tbody>\n",
       "    <tr>\n",
       "      <th>age</th>\n",
       "      <td>96</td>\n",
       "      <td>19.277108</td>\n",
       "    </tr>\n",
       "    <tr>\n",
       "      <th>embarked</th>\n",
       "      <td>1</td>\n",
       "      <td>0.200803</td>\n",
       "    </tr>\n",
       "  </tbody>\n",
       "</table>\n",
       "</div>"
      ],
      "text/plain": [
       "          count  percentage\n",
       "variable                   \n",
       "age          96   19.277108\n",
       "embarked      1    0.200803"
      ]
     },
     "execution_count": 11,
     "metadata": {},
     "output_type": "execute_result"
    }
   ],
   "source": [
    "eda_helper_functions.missing_info(df)"
   ]
  },
  {
   "cell_type": "code",
   "execution_count": 15,
   "id": "dd6d4ab9",
   "metadata": {},
   "outputs": [
    {
     "data": {
      "image/png": "[encoded data removed]",
      "text/plain": [
       "<Figure size 1000x400 with 1 Axes>"
      ]
     },
     "metadata": {},
     "output_type": "display_data"
    }
   ],
   "source": [
    "eda_helper_functions.plot_missing_info(df)"
   ]
  },
  {
   "cell_type": "markdown",
   "id": "1c431b3b",
   "metadata": {},
   "source": [
    "`age` and `embarked` have missing values"
   ]
  },
  {
   "cell_type": "code",
   "execution_count": 18,
   "id": "24832254",
   "metadata": {},
   "outputs": [],
   "source": [
    "import missingno as msno\n"
   ]
  },
  {
   "cell_type": "code",
   "execution_count": 22,
   "id": "6000bd91",
   "metadata": {},
   "outputs": [
    {
     "data": {
      "text/plain": [
       "<Axes: >"
      ]
     },
     "execution_count": 22,
     "metadata": {},
     "output_type": "execute_result"
    },
    {
     "data": {
      "image/png": "[encoded data removed]",
      "text/plain": [
       "<Figure size 2500x1000 with 3 Axes>"
      ]
     },
     "metadata": {},
     "output_type": "display_data"
    }
   ],
   "source": [
    "msno.bar(df)"
   ]
  },
  {
   "cell_type": "code",
   "execution_count": 20,
   "id": "104d496b",
   "metadata": {},
   "outputs": [
    {
     "data": {
      "text/plain": [
       "<Axes: >"
      ]
     },
     "execution_count": 20,
     "metadata": {},
     "output_type": "execute_result"
    },
    {
     "data": {
      "image/png": "[encoded data removed]",
      "text/plain": [
       "<Figure size 2500x1000 with 2 Axes>"
      ]
     },
     "metadata": {},
     "output_type": "display_data"
    }
   ],
   "source": [
    "msno.matrix(df)"
   ]
  },
  {
   "cell_type": "code",
   "execution_count": 35,
   "id": "db0846b1",
   "metadata": {},
   "outputs": [
    {
     "data": {
      "text/plain": [
       "pclass\n",
       "1    0.109091\n",
       "2    0.091743\n",
       "3    0.265233\n",
       "Name: age_missing, dtype: float64"
      ]
     },
     "execution_count": 35,
     "metadata": {},
     "output_type": "execute_result"
    }
   ],
   "source": [
    "(\n",
    "  df\n",
    "  .assign(\n",
    "    age_missing = lambda df_: df_.age.isnull().astype(int)\n",
    "  )\n",
    "  .groupby('pclass')\n",
    "  .age_missing\n",
    "  .mean()\n",
    ")"
   ]
  },
  {
   "cell_type": "markdown",
   "id": "791b0513",
   "metadata": {},
   "source": [
    "3rd class passendgers have more missing values for `age` colm,\n",
    "maybe coz they survived the least?  "
   ]
  },
  {
   "cell_type": "code",
   "execution_count": 36,
   "id": "9944287e",
   "metadata": {},
   "outputs": [
    {
     "data": {
      "text/plain": [
       "pclass\n",
       "1    0.627273\n",
       "2    0.449541\n",
       "3    0.254480\n",
       "Name: survived, dtype: float64"
      ]
     },
     "execution_count": 36,
     "metadata": {},
     "output_type": "execute_result"
    }
   ],
   "source": [
    "(\n",
    "  df\n",
    "  .groupby('pclass')\n",
    "  .survived\n",
    "  .mean()\n",
    ")"
   ]
  },
  {
   "cell_type": "markdown",
   "id": "db429fad",
   "metadata": {},
   "source": [
    "yes, they survived the least !! so cant say that missing values\n",
    "of `age` colm depend on `pclass`"
   ]
  },
  {
   "cell_type": "code",
   "execution_count": 37,
   "id": "3f14da18",
   "metadata": {},
   "outputs": [
    {
     "data": {
      "text/plain": [
       "sex\n",
       "female    0.169697\n",
       "male      0.204204\n",
       "Name: missing_age, dtype: float64"
      ]
     },
     "execution_count": 37,
     "metadata": {},
     "output_type": "execute_result"
    }
   ],
   "source": [
    "(\n",
    "  df\n",
    "  .assign(\n",
    "    missing_age = lambda df_: df_.age.isnull().astype(int)\n",
    "  )\n",
    "  .groupby('sex')\n",
    "  .missing_age\n",
    "  .mean()\n",
    ")"
   ]
  },
  {
   "cell_type": "markdown",
   "id": "4abec5e6",
   "metadata": {},
   "source": [
    "missing values of `age` dont depend on sex too\n",
    "as both sex have similar missing values considering \n",
    "more male died than female "
   ]
  },
  {
   "cell_type": "code",
   "execution_count": 41,
   "id": "95364b96",
   "metadata": {},
   "outputs": [
    {
     "data": {
      "text/plain": [
       "sex\n",
       "female    0.739394\n",
       "male      0.201201\n",
       "Name: survived, dtype: float64"
      ]
     },
     "execution_count": 41,
     "metadata": {},
     "output_type": "execute_result"
    }
   ],
   "source": [
    "(\n",
    "  df\n",
    "  .groupby('sex')\n",
    "  .survived\n",
    "  .mean()\n",
    ")"
   ]
  },
  {
   "cell_type": "code",
   "execution_count": null,
   "id": "ae46922c",
   "metadata": {},
   "outputs": [
    {
     "data": {
      "text/plain": [
       "<pandas.core.groupby.generic.DataFrameGroupBy object at 0x0000028338F6E8F0>"
      ]
     },
     "execution_count": 42,
     "metadata": {},
     "output_type": "execute_result"
    }
   ],
   "source": [
    "df.groupby('sex')."
   ]
  },
  {
   "cell_type": "code",
   "execution_count": 30,
   "id": "8fa4063e",
   "metadata": {},
   "outputs": [
    {
     "data": {
      "text/plain": [
       "Index(['pclass', 'sex', 'age', 'sibsp', 'parch', 'fare', 'embarked',\n",
       "       'survived'],\n",
       "      dtype='object')"
      ]
     },
     "execution_count": 30,
     "metadata": {},
     "output_type": "execute_result"
    }
   ],
   "source": [
    "df.columns"
   ]
  },
  {
   "cell_type": "markdown",
   "id": "76711687",
   "metadata": {},
   "source": [
    "### 4. High level analysis of outliers"
   ]
  },
  {
   "cell_type": "code",
   "execution_count": 12,
   "id": "7c72a079",
   "metadata": {},
   "outputs": [
    {
     "data": {
      "text/plain": [
       "Index(['pclass', 'sex', 'age', 'sibsp', 'parch', 'fare', 'embarked',\n",
       "       'survived'],\n",
       "      dtype='object')"
      ]
     },
     "execution_count": 12,
     "metadata": {},
     "output_type": "execute_result"
    }
   ],
   "source": [
    "df.columns"
   ]
  },
  {
   "cell_type": "code",
   "execution_count": 14,
   "id": "47e04c2e",
   "metadata": {},
   "outputs": [
    {
     "data": {
      "text/plain": [
       "pclass        int64\n",
       "sex          object\n",
       "age         float64\n",
       "sibsp         int64\n",
       "parch         int64\n",
       "fare        float64\n",
       "embarked     object\n",
       "survived      int64\n",
       "dtype: object"
      ]
     },
     "execution_count": 14,
     "metadata": {},
     "output_type": "execute_result"
    }
   ],
   "source": [
    "df.dtypes"
   ]
  },
  {
   "cell_type": "markdown",
   "id": "5d908507",
   "metadata": {},
   "source": [
    "for colms `age`, `sibsp`, `parch` nd `fare`  \n",
    "it makes sense to check outliers      "
   ]
  },
  {
   "cell_type": "code",
   "execution_count": null,
   "id": "04e0eafe",
   "metadata": {},
   "outputs": [],
   "source": [
    "eda_helper_functions."
   ]
  },
  {
   "cell_type": "markdown",
   "id": "addf0b93",
   "metadata": {},
   "source": [
    "Here’s what you should focus on for EDA on Titanic (train set):\n",
    "\n",
    "1. Structure & Quality Check\n",
    "df.shape → Rows, columns count\n",
    "\n",
    "df.info() → Data types, missing values count\n",
    "\n",
    "df.describe() → Summary stats for numeric columns\n",
    "\n",
    "2. Target Variable Analysis (Imbalance detection)\n",
    "python\n",
    "Copy\n",
    "Edit\n",
    "train['survived'].value_counts(normalize=True) * 100\n",
    "Plot bar chart (0 = died, 1 = survived)\n",
    "\n",
    "This is just to observe imbalance, don’t fix it yet.\n",
    "\n",
    "3. Missing Value Analysis\n",
    "Check percentage missing per column\n",
    "\n",
    "Example for Titanic:\n",
    "\n",
    "age often missing\n",
    "\n",
    "embarked may have a few missing\n",
    "\n",
    "Later, you’ll decide imputation strategies.\n",
    "\n",
    "4. Univariate Analysis\n",
    "Numeric features: histograms, boxplots for outliers (age, fare)\n",
    "\n",
    "Categorical features: countplots (sex, pclass, embarked)\n",
    "\n",
    "5. Bivariate Analysis with Target\n",
    "Check relationships with survived:\n",
    "\n",
    "Categorical vs target: pd.crosstab(train['sex'], train['survived']) → survival rate by sex\n",
    "\n",
    "Numeric vs target: boxplots (e.g., age distribution for survived vs not)\n",
    "\n",
    "6. Outlier Detection\n",
    "Boxplots for fare and age\n",
    "\n",
    "Z-score or IQR method to spot extreme points\n",
    "\n",
    "7. Correlation\n",
    "Heatmap for numeric columns to see multicollinearity\n",
    "\n",
    "Special note: pclass is ordinal, but often treated as categorical.\n",
    "\n",
    "💡 Key rule:\n",
    "EDA = look, don’t touch (much)\n",
    "You’re exploring patterns, not yet modifying data for training.\n",
    "Balancing, scaling, encoding, and imputation come after EDA, in preprocessing."
   ]
  }
 ],
 "metadata": {
  "kernelspec": {
   "display_name": ".venv",
   "language": "python",
   "name": "python3"
  },
  "language_info": {
   "codemirror_mode": {
    "name": "ipython",
    "version": 3
   },
   "file_extension": ".py",
   "mimetype": "text/x-python",
   "name": "python",
   "nbconvert_exporter": "python",
   "pygments_lexer": "ipython3",
   "version": "3.13.0"
  }
 },
 "nbformat": 4,
 "nbformat_minor": 5
}
